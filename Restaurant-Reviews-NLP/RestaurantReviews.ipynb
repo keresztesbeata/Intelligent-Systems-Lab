{
  "nbformat": 4,
  "nbformat_minor": 0,
  "metadata": {
    "colab": {
      "name": "RestaurantReviews.ipynb",
      "provenance": [],
      "collapsed_sections": [
        "iBB8t5D1nTts"
      ],
      "authorship_tag": "ABX9TyNTjzNtRZOeEVarnK11uflz",
      "include_colab_link": true
    },
    "kernelspec": {
      "name": "python3",
      "display_name": "Python 3"
    },
    "language_info": {
      "name": "python"
    }
  },
  "cells": [
    {
      "cell_type": "markdown",
      "metadata": {
        "id": "view-in-github",
        "colab_type": "text"
      },
      "source": [
        "<a href=\"https://colab.research.google.com/github/keresztesbeata/Intelligent-Systems-Lab/blob/main/Restaurant-Reviews-NLP/RestaurantReviews.ipynb\" target=\"_parent\"><img src=\"https://colab.research.google.com/assets/colab-badge.svg\" alt=\"Open In Colab\"/></a>"
      ]
    },
    {
      "cell_type": "markdown",
      "source": [
        "# Restaurant Reviews\n",
        "\n",
        "## Context\n",
        "Analyzing the positive and negative reviews of a customers/guests related to a restaurant (or any other service) could help to estimate the success and popularity of the restaurant, estimate its future profits or highlight the areas that need to be changed in order to accommodate to the needs and expectations of the customers.\n",
        "\n",
        "Automatically categorizing these reviews as positive or negative, without the need to read and interpret them one-by-one (nearly impossible for millions of reviews), could improve the efficiency of such review system, by speeding up the process of evaluating the customer feedback and adjusting the provided services.\n",
        "\n",
        "The task of categorizing such reviews belongs to the domain of Natural Language Processing, more specifically Sentiment Analysis based on a text fragment.\n",
        "\n",
        "## Dataset\n",
        "The dataset consists of a file containing 2 columns, one with the actual customer reviews and the second, a label indicating whether the customer has liked the food offered by the restaurant or not.\n",
        "\n",
        "## Task\n",
        "Decide if a given review is positive or negative."
      ],
      "metadata": {
        "id": "kMZtKOPWZtBJ"
      }
    },
    {
      "cell_type": "markdown",
      "source": [
        "# Data preparation"
      ],
      "metadata": {
        "id": "3PYFAJBxhyxl"
      }
    },
    {
      "cell_type": "code",
      "execution_count": 55,
      "metadata": {
        "id": "xregBqLzZRon",
        "colab": {
          "base_uri": "https://localhost:8080/"
        },
        "outputId": "899f52c3-980b-4cf7-d5dd-d6d998470968"
      },
      "outputs": [
        {
          "output_type": "stream",
          "name": "stdout",
          "text": [
            "[nltk_data] Downloading package stopwords to /root/nltk_data...\n",
            "[nltk_data]   Package stopwords is already up-to-date!\n"
          ]
        },
        {
          "output_type": "execute_result",
          "data": {
            "text/plain": [
              "True"
            ]
          },
          "metadata": {},
          "execution_count": 55
        }
      ],
      "source": [
        "import numpy as np \n",
        "import pandas as pd\n",
        "import seaborn as sns\n",
        "import plotly.express as px\n",
        "from sklearn.base import clone\n",
        "import csv\n",
        "\n",
        "import tensorflow as tf\n",
        "from tensorflow import keras\n",
        "from keras.layers import Embedding, LSTM, Dense, Bidirectional, GlobalAveragePooling1D, Conv1D, Dropout\n",
        "from keras.models import Sequential, Model\n",
        "\n",
        "from keras.preprocessing.text import Tokenizer, text_to_word_sequence\n",
        "from keras.preprocessing.sequence import pad_sequences\n",
        "from keras.utils.np_utils import to_categorical\n",
        "\n",
        "from keras import initializers as initializers, regularizers, constraints\n",
        "\n",
        "from sklearn.model_selection import train_test_split\n",
        "import string, re\n",
        "from sklearn.feature_extraction.text import CountVectorizer\n",
        "\n",
        "from nltk.stem.porter import PorterStemmer\n",
        "import nltk\n",
        "from nltk.corpus import stopwords\n",
        "nltk.download('stopwords')"
      ]
    },
    {
      "cell_type": "markdown",
      "source": [
        "Define helper function for plotting graphs:"
      ],
      "metadata": {
        "id": "ecoAsRWcvc1L"
      }
    },
    {
      "cell_type": "code",
      "source": [
        "import matplotlib.pyplot as plt\n",
        "\n",
        "def plot_graphs(history, metric):\n",
        "  plt.plot(history.history[metric])\n",
        "  plt.plot(history.history['val_'+metric], '')\n",
        "  plt.xlabel(\"Epochs\")\n",
        "  plt.ylabel(metric)\n",
        "  plt.legend([metric, 'val_'+metric])"
      ],
      "metadata": {
        "id": "cEWffO3dvg20"
      },
      "execution_count": 2,
      "outputs": []
    },
    {
      "cell_type": "markdown",
      "source": [
        "## Reading the data"
      ],
      "metadata": {
        "id": "iBB8t5D1nTts"
      }
    },
    {
      "cell_type": "code",
      "source": [
        "data_url = \"https://raw.githubusercontent.com/keresztesbeata/Intelligent-Systems-Lab/main/Restaurant-Reviews-NLP/restaurant_reviews_data.csv\"\n",
        "\n",
        "raw_data = pd.read_csv(data_url, on_bad_lines='skip')"
      ],
      "metadata": {
        "id": "SOaImaa-h0Q-"
      },
      "execution_count": 4,
      "outputs": []
    },
    {
      "cell_type": "code",
      "source": [
        "raw_data.head()"
      ],
      "metadata": {
        "colab": {
          "base_uri": "https://localhost:8080/",
          "height": 0
        },
        "id": "FSFRgu7Vl3Y4",
        "outputId": "144ea7ca-26f7-45f4-bdb6-7008c6925876"
      },
      "execution_count": 5,
      "outputs": [
        {
          "output_type": "execute_result",
          "data": {
            "text/plain": [
              "                                              Review  Liked\n",
              "0                           Wow... Loved this place.      1\n",
              "1                                 Crust is not good.      0\n",
              "2          Not tasty and the texture was just nasty.      0\n",
              "3  Stopped by during the late May bank holiday of...      1\n",
              "4  The selection on the menu was great and so wer...      1"
            ],
            "text/html": [
              "\n",
              "  <div id=\"df-6b05c216-8499-4dcf-ab5b-021468ebcec4\">\n",
              "    <div class=\"colab-df-container\">\n",
              "      <div>\n",
              "<style scoped>\n",
              "    .dataframe tbody tr th:only-of-type {\n",
              "        vertical-align: middle;\n",
              "    }\n",
              "\n",
              "    .dataframe tbody tr th {\n",
              "        vertical-align: top;\n",
              "    }\n",
              "\n",
              "    .dataframe thead th {\n",
              "        text-align: right;\n",
              "    }\n",
              "</style>\n",
              "<table border=\"1\" class=\"dataframe\">\n",
              "  <thead>\n",
              "    <tr style=\"text-align: right;\">\n",
              "      <th></th>\n",
              "      <th>Review</th>\n",
              "      <th>Liked</th>\n",
              "    </tr>\n",
              "  </thead>\n",
              "  <tbody>\n",
              "    <tr>\n",
              "      <th>0</th>\n",
              "      <td>Wow... Loved this place.</td>\n",
              "      <td>1</td>\n",
              "    </tr>\n",
              "    <tr>\n",
              "      <th>1</th>\n",
              "      <td>Crust is not good.</td>\n",
              "      <td>0</td>\n",
              "    </tr>\n",
              "    <tr>\n",
              "      <th>2</th>\n",
              "      <td>Not tasty and the texture was just nasty.</td>\n",
              "      <td>0</td>\n",
              "    </tr>\n",
              "    <tr>\n",
              "      <th>3</th>\n",
              "      <td>Stopped by during the late May bank holiday of...</td>\n",
              "      <td>1</td>\n",
              "    </tr>\n",
              "    <tr>\n",
              "      <th>4</th>\n",
              "      <td>The selection on the menu was great and so wer...</td>\n",
              "      <td>1</td>\n",
              "    </tr>\n",
              "  </tbody>\n",
              "</table>\n",
              "</div>\n",
              "      <button class=\"colab-df-convert\" onclick=\"convertToInteractive('df-6b05c216-8499-4dcf-ab5b-021468ebcec4')\"\n",
              "              title=\"Convert this dataframe to an interactive table.\"\n",
              "              style=\"display:none;\">\n",
              "        \n",
              "  <svg xmlns=\"http://www.w3.org/2000/svg\" height=\"24px\"viewBox=\"0 0 24 24\"\n",
              "       width=\"24px\">\n",
              "    <path d=\"M0 0h24v24H0V0z\" fill=\"none\"/>\n",
              "    <path d=\"M18.56 5.44l.94 2.06.94-2.06 2.06-.94-2.06-.94-.94-2.06-.94 2.06-2.06.94zm-11 1L8.5 8.5l.94-2.06 2.06-.94-2.06-.94L8.5 2.5l-.94 2.06-2.06.94zm10 10l.94 2.06.94-2.06 2.06-.94-2.06-.94-.94-2.06-.94 2.06-2.06.94z\"/><path d=\"M17.41 7.96l-1.37-1.37c-.4-.4-.92-.59-1.43-.59-.52 0-1.04.2-1.43.59L10.3 9.45l-7.72 7.72c-.78.78-.78 2.05 0 2.83L4 21.41c.39.39.9.59 1.41.59.51 0 1.02-.2 1.41-.59l7.78-7.78 2.81-2.81c.8-.78.8-2.07 0-2.86zM5.41 20L4 18.59l7.72-7.72 1.47 1.35L5.41 20z\"/>\n",
              "  </svg>\n",
              "      </button>\n",
              "      \n",
              "  <style>\n",
              "    .colab-df-container {\n",
              "      display:flex;\n",
              "      flex-wrap:wrap;\n",
              "      gap: 12px;\n",
              "    }\n",
              "\n",
              "    .colab-df-convert {\n",
              "      background-color: #E8F0FE;\n",
              "      border: none;\n",
              "      border-radius: 50%;\n",
              "      cursor: pointer;\n",
              "      display: none;\n",
              "      fill: #1967D2;\n",
              "      height: 32px;\n",
              "      padding: 0 0 0 0;\n",
              "      width: 32px;\n",
              "    }\n",
              "\n",
              "    .colab-df-convert:hover {\n",
              "      background-color: #E2EBFA;\n",
              "      box-shadow: 0px 1px 2px rgba(60, 64, 67, 0.3), 0px 1px 3px 1px rgba(60, 64, 67, 0.15);\n",
              "      fill: #174EA6;\n",
              "    }\n",
              "\n",
              "    [theme=dark] .colab-df-convert {\n",
              "      background-color: #3B4455;\n",
              "      fill: #D2E3FC;\n",
              "    }\n",
              "\n",
              "    [theme=dark] .colab-df-convert:hover {\n",
              "      background-color: #434B5C;\n",
              "      box-shadow: 0px 1px 3px 1px rgba(0, 0, 0, 0.15);\n",
              "      filter: drop-shadow(0px 1px 2px rgba(0, 0, 0, 0.3));\n",
              "      fill: #FFFFFF;\n",
              "    }\n",
              "  </style>\n",
              "\n",
              "      <script>\n",
              "        const buttonEl =\n",
              "          document.querySelector('#df-6b05c216-8499-4dcf-ab5b-021468ebcec4 button.colab-df-convert');\n",
              "        buttonEl.style.display =\n",
              "          google.colab.kernel.accessAllowed ? 'block' : 'none';\n",
              "\n",
              "        async function convertToInteractive(key) {\n",
              "          const element = document.querySelector('#df-6b05c216-8499-4dcf-ab5b-021468ebcec4');\n",
              "          const dataTable =\n",
              "            await google.colab.kernel.invokeFunction('convertToInteractive',\n",
              "                                                     [key], {});\n",
              "          if (!dataTable) return;\n",
              "\n",
              "          const docLinkHtml = 'Like what you see? Visit the ' +\n",
              "            '<a target=\"_blank\" href=https://colab.research.google.com/notebooks/data_table.ipynb>data table notebook</a>'\n",
              "            + ' to learn more about interactive tables.';\n",
              "          element.innerHTML = '';\n",
              "          dataTable['output_type'] = 'display_data';\n",
              "          await google.colab.output.renderOutput(dataTable, element);\n",
              "          const docLink = document.createElement('div');\n",
              "          docLink.innerHTML = docLinkHtml;\n",
              "          element.appendChild(docLink);\n",
              "        }\n",
              "      </script>\n",
              "    </div>\n",
              "  </div>\n",
              "  "
            ]
          },
          "metadata": {},
          "execution_count": 5
        }
      ]
    },
    {
      "cell_type": "code",
      "source": [
        "raw_data.groupby('Liked').describe()"
      ],
      "metadata": {
        "colab": {
          "base_uri": "https://localhost:8080/",
          "height": 0
        },
        "id": "V733YwJ5i_3_",
        "outputId": "396f7dcc-94f0-4648-cfe5-f169c28b9e87"
      },
      "execution_count": 6,
      "outputs": [
        {
          "output_type": "execute_result",
          "data": {
            "text/plain": [
              "      Review                                    \n",
              "       count unique                     top freq\n",
              "Liked                                           \n",
              "0        500    497  The food was terrible.    2\n",
              "1        500    499      I love this place.    2"
            ],
            "text/html": [
              "\n",
              "  <div id=\"df-fa86baaa-90c1-43d3-b316-cf3ed04586a0\">\n",
              "    <div class=\"colab-df-container\">\n",
              "      <div>\n",
              "<style scoped>\n",
              "    .dataframe tbody tr th:only-of-type {\n",
              "        vertical-align: middle;\n",
              "    }\n",
              "\n",
              "    .dataframe tbody tr th {\n",
              "        vertical-align: top;\n",
              "    }\n",
              "\n",
              "    .dataframe thead tr th {\n",
              "        text-align: left;\n",
              "    }\n",
              "\n",
              "    .dataframe thead tr:last-of-type th {\n",
              "        text-align: right;\n",
              "    }\n",
              "</style>\n",
              "<table border=\"1\" class=\"dataframe\">\n",
              "  <thead>\n",
              "    <tr>\n",
              "      <th></th>\n",
              "      <th colspan=\"4\" halign=\"left\">Review</th>\n",
              "    </tr>\n",
              "    <tr>\n",
              "      <th></th>\n",
              "      <th>count</th>\n",
              "      <th>unique</th>\n",
              "      <th>top</th>\n",
              "      <th>freq</th>\n",
              "    </tr>\n",
              "    <tr>\n",
              "      <th>Liked</th>\n",
              "      <th></th>\n",
              "      <th></th>\n",
              "      <th></th>\n",
              "      <th></th>\n",
              "    </tr>\n",
              "  </thead>\n",
              "  <tbody>\n",
              "    <tr>\n",
              "      <th>0</th>\n",
              "      <td>500</td>\n",
              "      <td>497</td>\n",
              "      <td>The food was terrible.</td>\n",
              "      <td>2</td>\n",
              "    </tr>\n",
              "    <tr>\n",
              "      <th>1</th>\n",
              "      <td>500</td>\n",
              "      <td>499</td>\n",
              "      <td>I love this place.</td>\n",
              "      <td>2</td>\n",
              "    </tr>\n",
              "  </tbody>\n",
              "</table>\n",
              "</div>\n",
              "      <button class=\"colab-df-convert\" onclick=\"convertToInteractive('df-fa86baaa-90c1-43d3-b316-cf3ed04586a0')\"\n",
              "              title=\"Convert this dataframe to an interactive table.\"\n",
              "              style=\"display:none;\">\n",
              "        \n",
              "  <svg xmlns=\"http://www.w3.org/2000/svg\" height=\"24px\"viewBox=\"0 0 24 24\"\n",
              "       width=\"24px\">\n",
              "    <path d=\"M0 0h24v24H0V0z\" fill=\"none\"/>\n",
              "    <path d=\"M18.56 5.44l.94 2.06.94-2.06 2.06-.94-2.06-.94-.94-2.06-.94 2.06-2.06.94zm-11 1L8.5 8.5l.94-2.06 2.06-.94-2.06-.94L8.5 2.5l-.94 2.06-2.06.94zm10 10l.94 2.06.94-2.06 2.06-.94-2.06-.94-.94-2.06-.94 2.06-2.06.94z\"/><path d=\"M17.41 7.96l-1.37-1.37c-.4-.4-.92-.59-1.43-.59-.52 0-1.04.2-1.43.59L10.3 9.45l-7.72 7.72c-.78.78-.78 2.05 0 2.83L4 21.41c.39.39.9.59 1.41.59.51 0 1.02-.2 1.41-.59l7.78-7.78 2.81-2.81c.8-.78.8-2.07 0-2.86zM5.41 20L4 18.59l7.72-7.72 1.47 1.35L5.41 20z\"/>\n",
              "  </svg>\n",
              "      </button>\n",
              "      \n",
              "  <style>\n",
              "    .colab-df-container {\n",
              "      display:flex;\n",
              "      flex-wrap:wrap;\n",
              "      gap: 12px;\n",
              "    }\n",
              "\n",
              "    .colab-df-convert {\n",
              "      background-color: #E8F0FE;\n",
              "      border: none;\n",
              "      border-radius: 50%;\n",
              "      cursor: pointer;\n",
              "      display: none;\n",
              "      fill: #1967D2;\n",
              "      height: 32px;\n",
              "      padding: 0 0 0 0;\n",
              "      width: 32px;\n",
              "    }\n",
              "\n",
              "    .colab-df-convert:hover {\n",
              "      background-color: #E2EBFA;\n",
              "      box-shadow: 0px 1px 2px rgba(60, 64, 67, 0.3), 0px 1px 3px 1px rgba(60, 64, 67, 0.15);\n",
              "      fill: #174EA6;\n",
              "    }\n",
              "\n",
              "    [theme=dark] .colab-df-convert {\n",
              "      background-color: #3B4455;\n",
              "      fill: #D2E3FC;\n",
              "    }\n",
              "\n",
              "    [theme=dark] .colab-df-convert:hover {\n",
              "      background-color: #434B5C;\n",
              "      box-shadow: 0px 1px 3px 1px rgba(0, 0, 0, 0.15);\n",
              "      filter: drop-shadow(0px 1px 2px rgba(0, 0, 0, 0.3));\n",
              "      fill: #FFFFFF;\n",
              "    }\n",
              "  </style>\n",
              "\n",
              "      <script>\n",
              "        const buttonEl =\n",
              "          document.querySelector('#df-fa86baaa-90c1-43d3-b316-cf3ed04586a0 button.colab-df-convert');\n",
              "        buttonEl.style.display =\n",
              "          google.colab.kernel.accessAllowed ? 'block' : 'none';\n",
              "\n",
              "        async function convertToInteractive(key) {\n",
              "          const element = document.querySelector('#df-fa86baaa-90c1-43d3-b316-cf3ed04586a0');\n",
              "          const dataTable =\n",
              "            await google.colab.kernel.invokeFunction('convertToInteractive',\n",
              "                                                     [key], {});\n",
              "          if (!dataTable) return;\n",
              "\n",
              "          const docLinkHtml = 'Like what you see? Visit the ' +\n",
              "            '<a target=\"_blank\" href=https://colab.research.google.com/notebooks/data_table.ipynb>data table notebook</a>'\n",
              "            + ' to learn more about interactive tables.';\n",
              "          element.innerHTML = '';\n",
              "          dataTable['output_type'] = 'display_data';\n",
              "          await google.colab.output.renderOutput(dataTable, element);\n",
              "          const docLink = document.createElement('div');\n",
              "          docLink.innerHTML = docLinkHtml;\n",
              "          element.appendChild(docLink);\n",
              "        }\n",
              "      </script>\n",
              "    </div>\n",
              "  </div>\n",
              "  "
            ]
          },
          "metadata": {},
          "execution_count": 6
        }
      ]
    },
    {
      "cell_type": "markdown",
      "source": [
        "As we can see the dataset is quite balanced, there are almost as many positive as negative examples of reviews which will be helpful when training the model as there is less danger of overfitting our model."
      ],
      "metadata": {
        "id": "-aCvddNcl82Q"
      }
    },
    {
      "cell_type": "code",
      "source": [
        "raw_data.info()"
      ],
      "metadata": {
        "colab": {
          "base_uri": "https://localhost:8080/"
        },
        "id": "uqYsR3h5uoIA",
        "outputId": "a94b5585-87fa-4d3a-c375-c1c5f7b011da"
      },
      "execution_count": 7,
      "outputs": [
        {
          "output_type": "stream",
          "name": "stdout",
          "text": [
            "<class 'pandas.core.frame.DataFrame'>\n",
            "RangeIndex: 1000 entries, 0 to 999\n",
            "Data columns (total 2 columns):\n",
            " #   Column  Non-Null Count  Dtype \n",
            "---  ------  --------------  ----- \n",
            " 0   Review  1000 non-null   object\n",
            " 1   Liked   1000 non-null   int64 \n",
            "dtypes: int64(1), object(1)\n",
            "memory usage: 15.8+ KB\n"
          ]
        }
      ]
    },
    {
      "cell_type": "markdown",
      "source": [
        "Check if there are any null values:"
      ],
      "metadata": {
        "id": "JnR5jun5s9cc"
      }
    },
    {
      "cell_type": "code",
      "source": [
        "raw_data.isnull().sum()"
      ],
      "metadata": {
        "colab": {
          "base_uri": "https://localhost:8080/"
        },
        "id": "jNtm3okks8wJ",
        "outputId": "e6148c1b-5a4c-4c03-f6fb-8bbbc0c538c9"
      },
      "execution_count": 8,
      "outputs": [
        {
          "output_type": "execute_result",
          "data": {
            "text/plain": [
              "Review    0\n",
              "Liked     0\n",
              "dtype: int64"
            ]
          },
          "metadata": {},
          "execution_count": 8
        }
      ]
    },
    {
      "cell_type": "markdown",
      "source": [
        "Remove the duplicates:"
      ],
      "metadata": {
        "id": "TbqA6Rigv4k9"
      }
    },
    {
      "cell_type": "code",
      "source": [
        "raw_data = raw_data.drop_duplicates()\n",
        "raw_data.groupby('Liked').describe()"
      ],
      "metadata": {
        "colab": {
          "base_uri": "https://localhost:8080/",
          "height": 0
        },
        "id": "WEe5EJ07tqxN",
        "outputId": "693d5c1a-50b0-4704-f22d-c487868cdea7"
      },
      "execution_count": 9,
      "outputs": [
        {
          "output_type": "execute_result",
          "data": {
            "text/plain": [
              "      Review                                      \n",
              "       count unique                       top freq\n",
              "Liked                                             \n",
              "0        497    497        Crust is not good.    1\n",
              "1        499    499  Wow... Loved this place.    1"
            ],
            "text/html": [
              "\n",
              "  <div id=\"df-0e888897-af75-44af-b831-12de21e87832\">\n",
              "    <div class=\"colab-df-container\">\n",
              "      <div>\n",
              "<style scoped>\n",
              "    .dataframe tbody tr th:only-of-type {\n",
              "        vertical-align: middle;\n",
              "    }\n",
              "\n",
              "    .dataframe tbody tr th {\n",
              "        vertical-align: top;\n",
              "    }\n",
              "\n",
              "    .dataframe thead tr th {\n",
              "        text-align: left;\n",
              "    }\n",
              "\n",
              "    .dataframe thead tr:last-of-type th {\n",
              "        text-align: right;\n",
              "    }\n",
              "</style>\n",
              "<table border=\"1\" class=\"dataframe\">\n",
              "  <thead>\n",
              "    <tr>\n",
              "      <th></th>\n",
              "      <th colspan=\"4\" halign=\"left\">Review</th>\n",
              "    </tr>\n",
              "    <tr>\n",
              "      <th></th>\n",
              "      <th>count</th>\n",
              "      <th>unique</th>\n",
              "      <th>top</th>\n",
              "      <th>freq</th>\n",
              "    </tr>\n",
              "    <tr>\n",
              "      <th>Liked</th>\n",
              "      <th></th>\n",
              "      <th></th>\n",
              "      <th></th>\n",
              "      <th></th>\n",
              "    </tr>\n",
              "  </thead>\n",
              "  <tbody>\n",
              "    <tr>\n",
              "      <th>0</th>\n",
              "      <td>497</td>\n",
              "      <td>497</td>\n",
              "      <td>Crust is not good.</td>\n",
              "      <td>1</td>\n",
              "    </tr>\n",
              "    <tr>\n",
              "      <th>1</th>\n",
              "      <td>499</td>\n",
              "      <td>499</td>\n",
              "      <td>Wow... Loved this place.</td>\n",
              "      <td>1</td>\n",
              "    </tr>\n",
              "  </tbody>\n",
              "</table>\n",
              "</div>\n",
              "      <button class=\"colab-df-convert\" onclick=\"convertToInteractive('df-0e888897-af75-44af-b831-12de21e87832')\"\n",
              "              title=\"Convert this dataframe to an interactive table.\"\n",
              "              style=\"display:none;\">\n",
              "        \n",
              "  <svg xmlns=\"http://www.w3.org/2000/svg\" height=\"24px\"viewBox=\"0 0 24 24\"\n",
              "       width=\"24px\">\n",
              "    <path d=\"M0 0h24v24H0V0z\" fill=\"none\"/>\n",
              "    <path d=\"M18.56 5.44l.94 2.06.94-2.06 2.06-.94-2.06-.94-.94-2.06-.94 2.06-2.06.94zm-11 1L8.5 8.5l.94-2.06 2.06-.94-2.06-.94L8.5 2.5l-.94 2.06-2.06.94zm10 10l.94 2.06.94-2.06 2.06-.94-2.06-.94-.94-2.06-.94 2.06-2.06.94z\"/><path d=\"M17.41 7.96l-1.37-1.37c-.4-.4-.92-.59-1.43-.59-.52 0-1.04.2-1.43.59L10.3 9.45l-7.72 7.72c-.78.78-.78 2.05 0 2.83L4 21.41c.39.39.9.59 1.41.59.51 0 1.02-.2 1.41-.59l7.78-7.78 2.81-2.81c.8-.78.8-2.07 0-2.86zM5.41 20L4 18.59l7.72-7.72 1.47 1.35L5.41 20z\"/>\n",
              "  </svg>\n",
              "      </button>\n",
              "      \n",
              "  <style>\n",
              "    .colab-df-container {\n",
              "      display:flex;\n",
              "      flex-wrap:wrap;\n",
              "      gap: 12px;\n",
              "    }\n",
              "\n",
              "    .colab-df-convert {\n",
              "      background-color: #E8F0FE;\n",
              "      border: none;\n",
              "      border-radius: 50%;\n",
              "      cursor: pointer;\n",
              "      display: none;\n",
              "      fill: #1967D2;\n",
              "      height: 32px;\n",
              "      padding: 0 0 0 0;\n",
              "      width: 32px;\n",
              "    }\n",
              "\n",
              "    .colab-df-convert:hover {\n",
              "      background-color: #E2EBFA;\n",
              "      box-shadow: 0px 1px 2px rgba(60, 64, 67, 0.3), 0px 1px 3px 1px rgba(60, 64, 67, 0.15);\n",
              "      fill: #174EA6;\n",
              "    }\n",
              "\n",
              "    [theme=dark] .colab-df-convert {\n",
              "      background-color: #3B4455;\n",
              "      fill: #D2E3FC;\n",
              "    }\n",
              "\n",
              "    [theme=dark] .colab-df-convert:hover {\n",
              "      background-color: #434B5C;\n",
              "      box-shadow: 0px 1px 3px 1px rgba(0, 0, 0, 0.15);\n",
              "      filter: drop-shadow(0px 1px 2px rgba(0, 0, 0, 0.3));\n",
              "      fill: #FFFFFF;\n",
              "    }\n",
              "  </style>\n",
              "\n",
              "      <script>\n",
              "        const buttonEl =\n",
              "          document.querySelector('#df-0e888897-af75-44af-b831-12de21e87832 button.colab-df-convert');\n",
              "        buttonEl.style.display =\n",
              "          google.colab.kernel.accessAllowed ? 'block' : 'none';\n",
              "\n",
              "        async function convertToInteractive(key) {\n",
              "          const element = document.querySelector('#df-0e888897-af75-44af-b831-12de21e87832');\n",
              "          const dataTable =\n",
              "            await google.colab.kernel.invokeFunction('convertToInteractive',\n",
              "                                                     [key], {});\n",
              "          if (!dataTable) return;\n",
              "\n",
              "          const docLinkHtml = 'Like what you see? Visit the ' +\n",
              "            '<a target=\"_blank\" href=https://colab.research.google.com/notebooks/data_table.ipynb>data table notebook</a>'\n",
              "            + ' to learn more about interactive tables.';\n",
              "          element.innerHTML = '';\n",
              "          dataTable['output_type'] = 'display_data';\n",
              "          await google.colab.output.renderOutput(dataTable, element);\n",
              "          const docLink = document.createElement('div');\n",
              "          docLink.innerHTML = docLinkHtml;\n",
              "          element.appendChild(docLink);\n",
              "        }\n",
              "      </script>\n",
              "    </div>\n",
              "  </div>\n",
              "  "
            ]
          },
          "metadata": {},
          "execution_count": 9
        }
      ]
    },
    {
      "cell_type": "markdown",
      "source": [
        "## Preparing the data"
      ],
      "metadata": {
        "id": "_gTTOjwCf4pF"
      }
    },
    {
      "cell_type": "markdown",
      "source": [
        "Before feeding the input data to our model, it must be cleaned and prepared and a vocabulary has to be built from it, which will be later used by an Embedding layer as part of the CNN model."
      ],
      "metadata": {
        "id": "jyJpbBZWGhHa"
      }
    },
    {
      "cell_type": "markdown",
      "source": [
        "### Text Preprocessing"
      ],
      "metadata": {
        "id": "bWowAozyWTjF"
      }
    },
    {
      "cell_type": "markdown",
      "source": [
        "Clean the dataset with the following steps:\n",
        "- transform all the words in the text to lowercase;\n",
        "- split the text into words (tokens) based on the white space characters;\n",
        "- remove punctuation marks, as they do not have a relevance in this case;\n",
        "- stemming the words (remove suffixes such as \"ing\", \"ly\", \"es\", \"s\" from a word to obtain the root word);\n",
        "- remove the words which contain non-merical or special characters and keep only the ones which contain excluseilevy alphabetical characters;\n",
        "- remove 'stop words', the most common words, articles, pronouns in English, for ex. a, an, the, and, if, then, etc;\n",
        "- Remove words with length of 0 or just 1 character."
      ],
      "metadata": {
        "id": "DTeyfIXYx5Q0"
      }
    },
    {
      "cell_type": "code",
      "source": [
        "def cleaning_text(text):\n",
        "    \"\"\"\n",
        "      Clean and standardize the given text by applying some transformation steps \n",
        "      on it in order to obtain a format which can be fed to the model later.\n",
        "      Steps:\n",
        "      - standardization: preprocessing (lowercase, remove punctuations, stopwords)\n",
        "      - tokenization: split the strings into tokens\n",
        "\n",
        "      Returns:\n",
        "        a list of words with standard ('clean') format\n",
        "    \"\"\"\n",
        "    # transform the text to lowercase\n",
        "    text = text.lower()\n",
        "    \n",
        "    # split the data into an array of words (= tokens delimeted by space)\n",
        "    words = text.split(' ')\n",
        "\n",
        "    # remove all punctuation marks\n",
        "    words = [word.translate(string.punctuation) for word in words if word]\n",
        "\n",
        "    # keep only the words which contain only alpahebtic characters\n",
        "    words = [word for word in words if word.isalpha()]\n",
        "\n",
        "    # similarly, filter stop words:\n",
        "    excluded_words = stopwords.words('english')\n",
        "\n",
        "    # keep 'not' because it will be used to identify the negative reviews\n",
        "    excluded_words.remove(\"not\")\n",
        "    \n",
        "    # stemming the suffixes of aggregate words to obtain the root word\n",
        "    ps = PorterStemmer()\n",
        "    words = [ps.stem(word) for word in words if not word in excluded_words]\n",
        "\n",
        "    # finally, filter the words by a min length, which should be at least 2 characters\n",
        "    words = [word for word in words if len(word) > 1]\n",
        "\n",
        "    return words"
      ],
      "metadata": {
        "id": "lSqCZJn9lndQ"
      },
      "execution_count": 94,
      "outputs": []
    },
    {
      "cell_type": "markdown",
      "source": [
        "Clean each review in the dataset and collect them to a list:"
      ],
      "metadata": {
        "id": "Cp2LlNWlYqT3"
      }
    },
    {
      "cell_type": "code",
      "source": [
        "def cleaning_data(text_data):\n",
        "  corpus = []\n",
        "\n",
        "  for col, row in text_data.items():\n",
        "    # clean the next entry (standardization)\n",
        "    cleaned_text = cleaning_text(row)\n",
        "    # join the list of words back into a sentence\n",
        "    cleaned_text = \" \".join(cleaned_text)\n",
        "    # add the cleaned text to the vocabulary\n",
        "    corpus.append(cleaned_text)\n",
        "\n",
        "  return corpus"
      ],
      "metadata": {
        "id": "RABMIdknUtid"
      },
      "execution_count": 96,
      "outputs": []
    },
    {
      "cell_type": "code",
      "source": [
        "# create a 'cleaned' copy of the original dataset\n",
        "clean_data = raw_data.copy()\n",
        "clean_data['Review'] = cleaning_data(raw_data['Review'])\n",
        "# show preview\n",
        "clean_data.head()"
      ],
      "metadata": {
        "colab": {
          "base_uri": "https://localhost:8080/",
          "height": 206
        },
        "id": "41ZgMe4TsOiS",
        "outputId": "d035c2d8-7167-4fd1-f3b7-ae7ea06b0992"
      },
      "execution_count": 97,
      "outputs": [
        {
          "output_type": "execute_result",
          "data": {
            "text/plain": [
              "                                              Review  Liked\n",
              "0                                               love      1\n",
              "1                                          crust not      0\n",
              "2                                   not tasti textur      0\n",
              "3  stop late may bank holiday rick steve recommen...      1\n",
              "4                                  select menu great      1"
            ],
            "text/html": [
              "\n",
              "  <div id=\"df-ddce1841-65ed-45d0-a3c9-a81c30dd28d1\">\n",
              "    <div class=\"colab-df-container\">\n",
              "      <div>\n",
              "<style scoped>\n",
              "    .dataframe tbody tr th:only-of-type {\n",
              "        vertical-align: middle;\n",
              "    }\n",
              "\n",
              "    .dataframe tbody tr th {\n",
              "        vertical-align: top;\n",
              "    }\n",
              "\n",
              "    .dataframe thead th {\n",
              "        text-align: right;\n",
              "    }\n",
              "</style>\n",
              "<table border=\"1\" class=\"dataframe\">\n",
              "  <thead>\n",
              "    <tr style=\"text-align: right;\">\n",
              "      <th></th>\n",
              "      <th>Review</th>\n",
              "      <th>Liked</th>\n",
              "    </tr>\n",
              "  </thead>\n",
              "  <tbody>\n",
              "    <tr>\n",
              "      <th>0</th>\n",
              "      <td>love</td>\n",
              "      <td>1</td>\n",
              "    </tr>\n",
              "    <tr>\n",
              "      <th>1</th>\n",
              "      <td>crust not</td>\n",
              "      <td>0</td>\n",
              "    </tr>\n",
              "    <tr>\n",
              "      <th>2</th>\n",
              "      <td>not tasti textur</td>\n",
              "      <td>0</td>\n",
              "    </tr>\n",
              "    <tr>\n",
              "      <th>3</th>\n",
              "      <td>stop late may bank holiday rick steve recommen...</td>\n",
              "      <td>1</td>\n",
              "    </tr>\n",
              "    <tr>\n",
              "      <th>4</th>\n",
              "      <td>select menu great</td>\n",
              "      <td>1</td>\n",
              "    </tr>\n",
              "  </tbody>\n",
              "</table>\n",
              "</div>\n",
              "      <button class=\"colab-df-convert\" onclick=\"convertToInteractive('df-ddce1841-65ed-45d0-a3c9-a81c30dd28d1')\"\n",
              "              title=\"Convert this dataframe to an interactive table.\"\n",
              "              style=\"display:none;\">\n",
              "        \n",
              "  <svg xmlns=\"http://www.w3.org/2000/svg\" height=\"24px\"viewBox=\"0 0 24 24\"\n",
              "       width=\"24px\">\n",
              "    <path d=\"M0 0h24v24H0V0z\" fill=\"none\"/>\n",
              "    <path d=\"M18.56 5.44l.94 2.06.94-2.06 2.06-.94-2.06-.94-.94-2.06-.94 2.06-2.06.94zm-11 1L8.5 8.5l.94-2.06 2.06-.94-2.06-.94L8.5 2.5l-.94 2.06-2.06.94zm10 10l.94 2.06.94-2.06 2.06-.94-2.06-.94-.94-2.06-.94 2.06-2.06.94z\"/><path d=\"M17.41 7.96l-1.37-1.37c-.4-.4-.92-.59-1.43-.59-.52 0-1.04.2-1.43.59L10.3 9.45l-7.72 7.72c-.78.78-.78 2.05 0 2.83L4 21.41c.39.39.9.59 1.41.59.51 0 1.02-.2 1.41-.59l7.78-7.78 2.81-2.81c.8-.78.8-2.07 0-2.86zM5.41 20L4 18.59l7.72-7.72 1.47 1.35L5.41 20z\"/>\n",
              "  </svg>\n",
              "      </button>\n",
              "      \n",
              "  <style>\n",
              "    .colab-df-container {\n",
              "      display:flex;\n",
              "      flex-wrap:wrap;\n",
              "      gap: 12px;\n",
              "    }\n",
              "\n",
              "    .colab-df-convert {\n",
              "      background-color: #E8F0FE;\n",
              "      border: none;\n",
              "      border-radius: 50%;\n",
              "      cursor: pointer;\n",
              "      display: none;\n",
              "      fill: #1967D2;\n",
              "      height: 32px;\n",
              "      padding: 0 0 0 0;\n",
              "      width: 32px;\n",
              "    }\n",
              "\n",
              "    .colab-df-convert:hover {\n",
              "      background-color: #E2EBFA;\n",
              "      box-shadow: 0px 1px 2px rgba(60, 64, 67, 0.3), 0px 1px 3px 1px rgba(60, 64, 67, 0.15);\n",
              "      fill: #174EA6;\n",
              "    }\n",
              "\n",
              "    [theme=dark] .colab-df-convert {\n",
              "      background-color: #3B4455;\n",
              "      fill: #D2E3FC;\n",
              "    }\n",
              "\n",
              "    [theme=dark] .colab-df-convert:hover {\n",
              "      background-color: #434B5C;\n",
              "      box-shadow: 0px 1px 3px 1px rgba(0, 0, 0, 0.15);\n",
              "      filter: drop-shadow(0px 1px 2px rgba(0, 0, 0, 0.3));\n",
              "      fill: #FFFFFF;\n",
              "    }\n",
              "  </style>\n",
              "\n",
              "      <script>\n",
              "        const buttonEl =\n",
              "          document.querySelector('#df-ddce1841-65ed-45d0-a3c9-a81c30dd28d1 button.colab-df-convert');\n",
              "        buttonEl.style.display =\n",
              "          google.colab.kernel.accessAllowed ? 'block' : 'none';\n",
              "\n",
              "        async function convertToInteractive(key) {\n",
              "          const element = document.querySelector('#df-ddce1841-65ed-45d0-a3c9-a81c30dd28d1');\n",
              "          const dataTable =\n",
              "            await google.colab.kernel.invokeFunction('convertToInteractive',\n",
              "                                                     [key], {});\n",
              "          if (!dataTable) return;\n",
              "\n",
              "          const docLinkHtml = 'Like what you see? Visit the ' +\n",
              "            '<a target=\"_blank\" href=https://colab.research.google.com/notebooks/data_table.ipynb>data table notebook</a>'\n",
              "            + ' to learn more about interactive tables.';\n",
              "          element.innerHTML = '';\n",
              "          dataTable['output_type'] = 'display_data';\n",
              "          await google.colab.output.renderOutput(dataTable, element);\n",
              "          const docLink = document.createElement('div');\n",
              "          docLink.innerHTML = docLinkHtml;\n",
              "          element.appendChild(docLink);\n",
              "        }\n",
              "      </script>\n",
              "    </div>\n",
              "  </div>\n",
              "  "
            ]
          },
          "metadata": {},
          "execution_count": 97
        }
      ]
    },
    {
      "cell_type": "markdown",
      "source": [
        "### Text Encoding"
      ],
      "metadata": {
        "id": "G3UO9W-TSb3c"
      }
    },
    {
      "cell_type": "code",
      "source": [
        "# extract a sample set from the preprocessed data to exempify the text vectorization process\n",
        "sample = clean_data['Review'].head()\n",
        "\n",
        "# <OOV> marks Out-of-Vocabulary tokens which cannot be recognized\n",
        "tokenizer = Tokenizer(num_words=100, oov_token=\"<OOV>\")\n",
        "# apply the tokenizer on the cleaned input texts\n",
        "tokenizer.fit_on_texts(sample)\n",
        "word_index = tokenizer.word_index\n",
        "\n",
        "print(\"The unique words found in the sample text together with their associated index value:\")\n",
        "print(word_index)\n",
        "print(\"----------------------------------------------------------------------\")\n",
        "\n",
        "# generate encoded sequences from the texts using the word_index values\n",
        "sequences = tokenizer.texts_to_sequences(sample)\n",
        "# pad the sequences to ensure each of them has the same length (post padding)\n",
        "padded = pad_sequences(sequences, maxlen=10, padding='post')\n",
        "\n",
        "for i in range(0,4):\n",
        "  print(\"Original sentence: \", sample[i])\n",
        "  print(\"Sequences: \", sequences[i])\n",
        "  print(\"Post padded sequences to fixed length of 10: \", padded[i])\n",
        "  print(\"----------------------------------------------------------------------\")"
      ],
      "metadata": {
        "colab": {
          "base_uri": "https://localhost:8080/"
        },
        "id": "CynUhFbGSuRb",
        "outputId": "f330a75b-5640-42fa-9d76-ccbc05d550f4"
      },
      "execution_count": 79,
      "outputs": [
        {
          "output_type": "stream",
          "name": "stdout",
          "text": [
            "The unique words found in the sample text together with their associated index value:\n",
            "{'<OOV>': 1, 'love': 2, 'not': 3, 'crust': 4, 'tasti': 5, 'textur': 6, 'stop': 7, 'late': 8, 'may': 9, 'bank': 10, 'holiday': 11, 'rick': 12, 'steve': 13, 'recommend': 14, 'select': 15, 'menu': 16, 'great': 17}\n",
            "----------------------------------------------------------------------\n",
            "Original sentence:  love\n",
            "Sequences:  [2]\n",
            "Post padded sequences to fixed length of 10:  [2 0 0 0 0 0 0 0 0 0]\n",
            "----------------------------------------------------------------------\n",
            "Original sentence:  crust not\n",
            "Sequences:  [4, 3]\n",
            "Post padded sequences to fixed length of 10:  [4 3 0 0 0 0 0 0 0 0]\n",
            "----------------------------------------------------------------------\n",
            "Original sentence:  not tasti textur\n",
            "Sequences:  [3, 5, 6]\n",
            "Post padded sequences to fixed length of 10:  [3 5 6 0 0 0 0 0 0 0]\n",
            "----------------------------------------------------------------------\n",
            "Original sentence:  stop late may bank holiday rick steve recommend love\n",
            "Sequences:  [7, 8, 9, 10, 11, 12, 13, 14, 2]\n",
            "Post padded sequences to fixed length of 10:  [ 7  8  9 10 11 12 13 14  2  0]\n",
            "----------------------------------------------------------------------\n"
          ]
        }
      ]
    },
    {
      "cell_type": "markdown",
      "source": [
        "#### Bag-of-Words models (BoW):\n",
        "\n",
        "Create a _dicitionary_ representing the universe of words contained in the corpus of the cleaned review texts. Using the dictionary and the stemmed tokens, we can create a BoW model which identifies each unique token (word) and its frequency or number of occurances in all the texts."
      ],
      "metadata": {
        "id": "3jnFLkaeZCkB"
      }
    },
    {
      "cell_type": "code",
      "source": [
        "VOCAB_SIZE = raw_data.shape[0]\n",
        "\n",
        "cv = CountVectorizer(max_features = VOCAB_SIZE) #  the maximum size of sparse matrix\n",
        "\n",
        "# create a 2D array (matrix) marking the nr of occurances of each word (token) in each of the reviews\n",
        "X = cv.fit_transform(cleaning_data(raw_data['Review'])).toarray()\n",
        "# extract the output labels (from the last column which is 'Liked')\n",
        "y = raw_data.iloc[:,-1].values \n",
        "\n",
        "freq_vector = pd.DataFrame(X, columns=cv.get_feature_names())\n",
        "\n",
        "# display the first few rows to show the format of the matrix\n",
        "freq_vector.head()"
      ],
      "metadata": {
        "colab": {
          "base_uri": "https://localhost:8080/",
          "height": 292
        },
        "id": "JO5_XMrRZLC_",
        "outputId": "f45b54cb-f41b-4db8-a82e-a41e5391fbd7"
      },
      "execution_count": 14,
      "outputs": [
        {
          "output_type": "stream",
          "name": "stderr",
          "text": [
            "/usr/local/lib/python3.7/dist-packages/sklearn/utils/deprecation.py:87: FutureWarning: Function get_feature_names is deprecated; get_feature_names is deprecated in 1.0 and will be removed in 1.2. Please use get_feature_names_out instead.\n",
            "  warnings.warn(msg, category=FutureWarning)\n"
          ]
        },
        {
          "output_type": "execute_result",
          "data": {
            "text/plain": [
              "   absolut  absolutley  accid  accommod  accomod  account  ach  actual  ad  \\\n",
              "0        0           0      0         0        0        0    0       0   0   \n",
              "1        0           0      0         0        0        0    0       0   0   \n",
              "2        0           0      0         0        0        0    0       0   0   \n",
              "3        0           0      0         0        0        0    0       0   0   \n",
              "4        0           0      0         0        0        0    0       0   0   \n",
              "\n",
              "   afford  ...  yama  yay  year  yellow  yellowtail  yet  yukon  yum  yummi  \\\n",
              "0       0  ...     0    0     0       0           0    0      0    0      0   \n",
              "1       0  ...     0    0     0       0           0    0      0    0      0   \n",
              "2       0  ...     0    0     0       0           0    0      0    0      0   \n",
              "3       0  ...     0    0     0       0           0    0      0    0      0   \n",
              "4       0  ...     0    0     0       0           0    0      0    0      0   \n",
              "\n",
              "   zero  \n",
              "0     0  \n",
              "1     0  \n",
              "2     0  \n",
              "3     0  \n",
              "4     0  \n",
              "\n",
              "[5 rows x 996 columns]"
            ],
            "text/html": [
              "\n",
              "  <div id=\"df-7dad5fee-554e-48e1-9d26-d6bc31b62aa8\">\n",
              "    <div class=\"colab-df-container\">\n",
              "      <div>\n",
              "<style scoped>\n",
              "    .dataframe tbody tr th:only-of-type {\n",
              "        vertical-align: middle;\n",
              "    }\n",
              "\n",
              "    .dataframe tbody tr th {\n",
              "        vertical-align: top;\n",
              "    }\n",
              "\n",
              "    .dataframe thead th {\n",
              "        text-align: right;\n",
              "    }\n",
              "</style>\n",
              "<table border=\"1\" class=\"dataframe\">\n",
              "  <thead>\n",
              "    <tr style=\"text-align: right;\">\n",
              "      <th></th>\n",
              "      <th>absolut</th>\n",
              "      <th>absolutley</th>\n",
              "      <th>accid</th>\n",
              "      <th>accommod</th>\n",
              "      <th>accomod</th>\n",
              "      <th>account</th>\n",
              "      <th>ach</th>\n",
              "      <th>actual</th>\n",
              "      <th>ad</th>\n",
              "      <th>afford</th>\n",
              "      <th>...</th>\n",
              "      <th>yama</th>\n",
              "      <th>yay</th>\n",
              "      <th>year</th>\n",
              "      <th>yellow</th>\n",
              "      <th>yellowtail</th>\n",
              "      <th>yet</th>\n",
              "      <th>yukon</th>\n",
              "      <th>yum</th>\n",
              "      <th>yummi</th>\n",
              "      <th>zero</th>\n",
              "    </tr>\n",
              "  </thead>\n",
              "  <tbody>\n",
              "    <tr>\n",
              "      <th>0</th>\n",
              "      <td>0</td>\n",
              "      <td>0</td>\n",
              "      <td>0</td>\n",
              "      <td>0</td>\n",
              "      <td>0</td>\n",
              "      <td>0</td>\n",
              "      <td>0</td>\n",
              "      <td>0</td>\n",
              "      <td>0</td>\n",
              "      <td>0</td>\n",
              "      <td>...</td>\n",
              "      <td>0</td>\n",
              "      <td>0</td>\n",
              "      <td>0</td>\n",
              "      <td>0</td>\n",
              "      <td>0</td>\n",
              "      <td>0</td>\n",
              "      <td>0</td>\n",
              "      <td>0</td>\n",
              "      <td>0</td>\n",
              "      <td>0</td>\n",
              "    </tr>\n",
              "    <tr>\n",
              "      <th>1</th>\n",
              "      <td>0</td>\n",
              "      <td>0</td>\n",
              "      <td>0</td>\n",
              "      <td>0</td>\n",
              "      <td>0</td>\n",
              "      <td>0</td>\n",
              "      <td>0</td>\n",
              "      <td>0</td>\n",
              "      <td>0</td>\n",
              "      <td>0</td>\n",
              "      <td>...</td>\n",
              "      <td>0</td>\n",
              "      <td>0</td>\n",
              "      <td>0</td>\n",
              "      <td>0</td>\n",
              "      <td>0</td>\n",
              "      <td>0</td>\n",
              "      <td>0</td>\n",
              "      <td>0</td>\n",
              "      <td>0</td>\n",
              "      <td>0</td>\n",
              "    </tr>\n",
              "    <tr>\n",
              "      <th>2</th>\n",
              "      <td>0</td>\n",
              "      <td>0</td>\n",
              "      <td>0</td>\n",
              "      <td>0</td>\n",
              "      <td>0</td>\n",
              "      <td>0</td>\n",
              "      <td>0</td>\n",
              "      <td>0</td>\n",
              "      <td>0</td>\n",
              "      <td>0</td>\n",
              "      <td>...</td>\n",
              "      <td>0</td>\n",
              "      <td>0</td>\n",
              "      <td>0</td>\n",
              "      <td>0</td>\n",
              "      <td>0</td>\n",
              "      <td>0</td>\n",
              "      <td>0</td>\n",
              "      <td>0</td>\n",
              "      <td>0</td>\n",
              "      <td>0</td>\n",
              "    </tr>\n",
              "    <tr>\n",
              "      <th>3</th>\n",
              "      <td>0</td>\n",
              "      <td>0</td>\n",
              "      <td>0</td>\n",
              "      <td>0</td>\n",
              "      <td>0</td>\n",
              "      <td>0</td>\n",
              "      <td>0</td>\n",
              "      <td>0</td>\n",
              "      <td>0</td>\n",
              "      <td>0</td>\n",
              "      <td>...</td>\n",
              "      <td>0</td>\n",
              "      <td>0</td>\n",
              "      <td>0</td>\n",
              "      <td>0</td>\n",
              "      <td>0</td>\n",
              "      <td>0</td>\n",
              "      <td>0</td>\n",
              "      <td>0</td>\n",
              "      <td>0</td>\n",
              "      <td>0</td>\n",
              "    </tr>\n",
              "    <tr>\n",
              "      <th>4</th>\n",
              "      <td>0</td>\n",
              "      <td>0</td>\n",
              "      <td>0</td>\n",
              "      <td>0</td>\n",
              "      <td>0</td>\n",
              "      <td>0</td>\n",
              "      <td>0</td>\n",
              "      <td>0</td>\n",
              "      <td>0</td>\n",
              "      <td>0</td>\n",
              "      <td>...</td>\n",
              "      <td>0</td>\n",
              "      <td>0</td>\n",
              "      <td>0</td>\n",
              "      <td>0</td>\n",
              "      <td>0</td>\n",
              "      <td>0</td>\n",
              "      <td>0</td>\n",
              "      <td>0</td>\n",
              "      <td>0</td>\n",
              "      <td>0</td>\n",
              "    </tr>\n",
              "  </tbody>\n",
              "</table>\n",
              "<p>5 rows × 996 columns</p>\n",
              "</div>\n",
              "      <button class=\"colab-df-convert\" onclick=\"convertToInteractive('df-7dad5fee-554e-48e1-9d26-d6bc31b62aa8')\"\n",
              "              title=\"Convert this dataframe to an interactive table.\"\n",
              "              style=\"display:none;\">\n",
              "        \n",
              "  <svg xmlns=\"http://www.w3.org/2000/svg\" height=\"24px\"viewBox=\"0 0 24 24\"\n",
              "       width=\"24px\">\n",
              "    <path d=\"M0 0h24v24H0V0z\" fill=\"none\"/>\n",
              "    <path d=\"M18.56 5.44l.94 2.06.94-2.06 2.06-.94-2.06-.94-.94-2.06-.94 2.06-2.06.94zm-11 1L8.5 8.5l.94-2.06 2.06-.94-2.06-.94L8.5 2.5l-.94 2.06-2.06.94zm10 10l.94 2.06.94-2.06 2.06-.94-2.06-.94-.94-2.06-.94 2.06-2.06.94z\"/><path d=\"M17.41 7.96l-1.37-1.37c-.4-.4-.92-.59-1.43-.59-.52 0-1.04.2-1.43.59L10.3 9.45l-7.72 7.72c-.78.78-.78 2.05 0 2.83L4 21.41c.39.39.9.59 1.41.59.51 0 1.02-.2 1.41-.59l7.78-7.78 2.81-2.81c.8-.78.8-2.07 0-2.86zM5.41 20L4 18.59l7.72-7.72 1.47 1.35L5.41 20z\"/>\n",
              "  </svg>\n",
              "      </button>\n",
              "      \n",
              "  <style>\n",
              "    .colab-df-container {\n",
              "      display:flex;\n",
              "      flex-wrap:wrap;\n",
              "      gap: 12px;\n",
              "    }\n",
              "\n",
              "    .colab-df-convert {\n",
              "      background-color: #E8F0FE;\n",
              "      border: none;\n",
              "      border-radius: 50%;\n",
              "      cursor: pointer;\n",
              "      display: none;\n",
              "      fill: #1967D2;\n",
              "      height: 32px;\n",
              "      padding: 0 0 0 0;\n",
              "      width: 32px;\n",
              "    }\n",
              "\n",
              "    .colab-df-convert:hover {\n",
              "      background-color: #E2EBFA;\n",
              "      box-shadow: 0px 1px 2px rgba(60, 64, 67, 0.3), 0px 1px 3px 1px rgba(60, 64, 67, 0.15);\n",
              "      fill: #174EA6;\n",
              "    }\n",
              "\n",
              "    [theme=dark] .colab-df-convert {\n",
              "      background-color: #3B4455;\n",
              "      fill: #D2E3FC;\n",
              "    }\n",
              "\n",
              "    [theme=dark] .colab-df-convert:hover {\n",
              "      background-color: #434B5C;\n",
              "      box-shadow: 0px 1px 3px 1px rgba(0, 0, 0, 0.15);\n",
              "      filter: drop-shadow(0px 1px 2px rgba(0, 0, 0, 0.3));\n",
              "      fill: #FFFFFF;\n",
              "    }\n",
              "  </style>\n",
              "\n",
              "      <script>\n",
              "        const buttonEl =\n",
              "          document.querySelector('#df-7dad5fee-554e-48e1-9d26-d6bc31b62aa8 button.colab-df-convert');\n",
              "        buttonEl.style.display =\n",
              "          google.colab.kernel.accessAllowed ? 'block' : 'none';\n",
              "\n",
              "        async function convertToInteractive(key) {\n",
              "          const element = document.querySelector('#df-7dad5fee-554e-48e1-9d26-d6bc31b62aa8');\n",
              "          const dataTable =\n",
              "            await google.colab.kernel.invokeFunction('convertToInteractive',\n",
              "                                                     [key], {});\n",
              "          if (!dataTable) return;\n",
              "\n",
              "          const docLinkHtml = 'Like what you see? Visit the ' +\n",
              "            '<a target=\"_blank\" href=https://colab.research.google.com/notebooks/data_table.ipynb>data table notebook</a>'\n",
              "            + ' to learn more about interactive tables.';\n",
              "          element.innerHTML = '';\n",
              "          dataTable['output_type'] = 'display_data';\n",
              "          await google.colab.output.renderOutput(dataTable, element);\n",
              "          const docLink = document.createElement('div');\n",
              "          docLink.innerHTML = docLinkHtml;\n",
              "          element.appendChild(docLink);\n",
              "        }\n",
              "      </script>\n",
              "    </div>\n",
              "  </div>\n",
              "  "
            ]
          },
          "metadata": {},
          "execution_count": 14
        }
      ]
    },
    {
      "cell_type": "markdown",
      "source": [
        "### Build a custom text cleaner&encoder for the Embedding layer\n",
        "\n",
        "Apply on the input data the following steps:\n",
        " - cleaning\n",
        " - tokenization\n",
        " - assigning each token/word a unique index and adding it to the vocabulary\n",
        " - generating a sequence of labels for the original text\n",
        " - padding to obtain sequences of equal length"
      ],
      "metadata": {
        "id": "bwZPdlVHBaY9"
      }
    },
    {
      "cell_type": "code",
      "source": [
        "def preprocessing_layer(data, max_length = 256):\n",
        "    \"\"\"\n",
        "      Preprocessing layer applied on the input data:\n",
        "      - clean the text present in the 'Review' column\n",
        "      - tokenize the cleaned sequences and collect them into a vocabulary\n",
        "\n",
        "      data = input data\n",
        "      max_length = maximum words in a sentence\n",
        "      max_features = ensures that only the most frequent words are stored in\n",
        "      the vocabulary\n",
        "    \"\"\"\n",
        "    clean_data = data.copy()\n",
        "    clean_data['Review'] = cleaning_data(data['Review'])\n",
        "\n",
        "    reviews = clean_data['Review']\n",
        "\n",
        "    # tokenize the cleaned text into words\n",
        "    tokenizer = Tokenizer()\n",
        "\n",
        "    # update the internal vocabulary based on a list of texts:\n",
        "    #  -> vocab index based on word frequency: vocab[\"dog\"] = 2\n",
        "    #      { index = word,\n",
        "    #        value = frequency of the word }\n",
        "    tokenizer.fit_on_texts(reviews)\n",
        "\n",
        "    # Find the maximum number of unique words in the vocabulary\n",
        "    max_features = len(tokenizer.word_index) + 1 \n",
        "\n",
        "    # truncate the text to fit into sequences of fixed length\n",
        "    sequences = tokenizer.texts_to_sequences(reviews)\n",
        "    # if the length of the text is smaller than the predefined length of \n",
        "    # a sequence, then apply padding\n",
        "    padded = pad_sequences(sequences, maxlen=max_length, padding='post')\n",
        "\n",
        "    clean_data['Review'] = padded\n",
        "\n",
        "    return clean_data, word_index"
      ],
      "metadata": {
        "id": "IZvVDpfWtQ8a"
      },
      "execution_count": 98,
      "outputs": []
    },
    {
      "cell_type": "markdown",
      "source": [
        "### Using Keras Text Vectorization"
      ],
      "metadata": {
        "id": "jXyDGwyPOE4c"
      }
    },
    {
      "cell_type": "markdown",
      "source": [
        "Using the TextVectorization layer from keras, it allows us to combine the text preprocessing and encoding steps:"
      ],
      "metadata": {
        "id": "mx2YTOP00MmD"
      }
    },
    {
      "cell_type": "code",
      "source": [
        "def custom_standardization(input_data):\n",
        "    # convert the text to all lower-case letters\n",
        "    data = tf.strings.lower(input_data)\n",
        "    # remove the punctuation marks by replacing them with an empty string \"\"\n",
        "    data = tf.strings.regex_replace(\n",
        "        data, \"[%s]\" % re.escape(string.punctuation), \"\"\n",
        "    )\n",
        "    # remove all non-alpha characters by replacing them with an empty string \" \"\n",
        "    tf.strings.regex_replace(\n",
        "        data, \"^a-zA-Z\\s:]\", \" \")\n",
        "    \n",
        "    # similarly, filter stop words, but keep 'not' because it will be used to identify the negative reviews\n",
        "    stopwords_eng = stopwords.words('english')\n",
        "    stopwords_eng.remove(\"not\")\n",
        "\n",
        "    # remove the stopwords (most common eglish words/filling words) by replacing them with a space\n",
        "    for i in stopwords_eng:\n",
        "        data = tf.strings.regex_replace(data, f' {i} ', \" \")\n",
        "    return data"
      ],
      "metadata": {
        "id": "i23RJbpLQcLB"
      },
      "execution_count": 102,
      "outputs": []
    },
    {
      "cell_type": "code",
      "source": [
        "def text_vectorization_layer(vocab_data, vocab_size, sequence_length):\n",
        "    \"\"\"\n",
        "      It analyzes the given dataset, determine the frequency of individual words\n",
        "      and create a vocabulary from them.\n",
        "\n",
        "      Applies a processing layer for text:\n",
        "        - clean/standardize each example: lowercase + remove punctuation\n",
        "        - split it into tokens (words)\n",
        "        - rejoin substrings into token expressions\n",
        "        - index tokens\n",
        "\n",
        "        Params:\n",
        "        - vocab_data: the text to be cleaned\n",
        "        - vocab_size: the vocabulary size (max features) ex. 1000\n",
        "        - sequence_length: fixed length for sequences (pad or truncate if necessary) ex. 250\n",
        "        - custom: indicate whether to use the custom standardization function or the defualt one\n",
        "    \"\"\"\n",
        "    encoder = tf.keras.layers.TextVectorization(\n",
        "        # replace the default standardization layer with our custom layer\n",
        "        standardize = custom_standardization, \n",
        "        max_tokens=vocab_size,\n",
        "        output_mode='int',\n",
        "        output_sequence_length=sequence_length)\n",
        "\n",
        "    # Make a text-only dataset (without labels), then call adapt on it\n",
        "    encoder.adapt(vocab_data.map(lambda review,liked : review))\n",
        "\n",
        "    return encoder"
      ],
      "metadata": {
        "id": "i7fwHfN2aePC"
      },
      "execution_count": 101,
      "outputs": []
    },
    {
      "cell_type": "markdown",
      "source": [
        "Define a function which is able to convert the dataset stored in a pandas dataframe into a tensorflow dataset, which can be later used as input for the RNN model's layer."
      ],
      "metadata": {
        "id": "HZh31Uk9FbCE"
      }
    },
    {
      "cell_type": "code",
      "source": [
        "def convert_to_tf(pd_data):\n",
        "  \"\"\"\n",
        "    Converts a pandas dataframe to a tensorflow dataset.\n",
        "  \"\"\"\n",
        "  tf_data = tf.data.Dataset.from_tensor_slices(dict(raw_data))\n",
        "  \n",
        "  return tf_data.map(lambda row : (row['Review'], row['Liked']))"
      ],
      "metadata": {
        "id": "RpVzL8YLE4TD"
      },
      "execution_count": 103,
      "outputs": []
    },
    {
      "cell_type": "code",
      "source": [
        "# test the conversion function\n",
        "ds = convert_to_tf(raw_data)\n",
        "\n",
        "for review, liked in ds.take(1):\n",
        "  print(review.numpy())\n",
        "  print(liked.numpy())"
      ],
      "metadata": {
        "colab": {
          "base_uri": "https://localhost:8080/"
        },
        "id": "pnmY-LVqG414",
        "outputId": "fde91aef-75e5-4c73-bd0a-bf216604c16d"
      },
      "execution_count": 104,
      "outputs": [
        {
          "output_type": "stream",
          "name": "stdout",
          "text": [
            "b'Wow... Loved this place.'\n",
            "1\n"
          ]
        }
      ]
    },
    {
      "cell_type": "markdown",
      "source": [
        "Shuffle the data for training and create batches of (text, label):"
      ],
      "metadata": {
        "id": "Q7zZozKHHxJr"
      }
    },
    {
      "cell_type": "code",
      "source": [
        "BUFFER_SIZE = 10000\n",
        "BATCH_SIZE = 64\n",
        "\n",
        "train_ds = ds.shuffle(BUFFER_SIZE).batch(BATCH_SIZE).prefetch(tf.data.AUTOTUNE)"
      ],
      "metadata": {
        "id": "nyNLZ5kBHw3_"
      },
      "execution_count": 105,
      "outputs": []
    },
    {
      "cell_type": "markdown",
      "source": [
        "Check that the review-liked pair of values appear correctly in the dataset:"
      ],
      "metadata": {
        "id": "ishjbdxeLHMy"
      }
    },
    {
      "cell_type": "code",
      "source": [
        "for review, liked in train_ds.take(1):\n",
        "  print('review: ', review.numpy()[:3])\n",
        "  print()\n",
        "  print('liked: ', liked.numpy()[:3])"
      ],
      "metadata": {
        "colab": {
          "base_uri": "https://localhost:8080/"
        },
        "id": "f0dyPJMLJkA5",
        "outputId": "e902dc7b-a64a-491a-f764-0237938ae416"
      },
      "execution_count": 106,
      "outputs": [
        {
          "output_type": "stream",
          "name": "stdout",
          "text": [
            "review:  [b'Great food.'\n",
            " b'Of all the dishes, the salmon was the best, but all were great.'\n",
            " b'The food was very good and I enjoyed every mouthful, an enjoyable relaxed venue for couples small family groups etc.']\n",
            "\n",
            "liked:  [1 1 1]\n"
          ]
        }
      ]
    },
    {
      "cell_type": "markdown",
      "source": [
        "Test the TextVectorization layer from keras on a subset of the training set:"
      ],
      "metadata": {
        "id": "x05cP_vsF-t_"
      }
    },
    {
      "cell_type": "code",
      "source": [
        "vocab_size = raw_data.shape[0]\n",
        "max_sequence_length = 10\n",
        "\n",
        "# create a text encoder\n",
        "encoder = tf.keras.layers.TextVectorization(\n",
        "        standardize = custom_standardization,\n",
        "        max_tokens=vocab_size,\n",
        "        output_mode='int',\n",
        "        output_sequence_length=max_sequence_length)\n",
        "\n",
        "# build the vocabulary based on the input data\n",
        "encoder.adapt(ds.map(lambda review,liked : review))\n",
        "\n",
        "# retrieve the created vocabulary by the encoder\n",
        "vocab = np.array(encoder.get_vocabulary())\n",
        "\n",
        "# display the first 10 vocabulary entries: words and their encodings\n",
        "sample_size = 10\n",
        "print(\"The first \", sample_size, \" entries in the vocabulary and their corresponding sequence encodings are: \")\n",
        "\n",
        "for i in range(1,sample_size):\n",
        "  print(vocab[i], \" - \", encoder(vocab[i]).numpy())"
      ],
      "metadata": {
        "colab": {
          "base_uri": "https://localhost:8080/"
        },
        "id": "ZsSjb8k4GEOf",
        "outputId": "26ff59a7-51e1-4d0c-9582-8f1cf0a85266"
      },
      "execution_count": 108,
      "outputs": [
        {
          "output_type": "stream",
          "name": "stdout",
          "text": [
            "The first  10  entries in the vocabulary and their corresponding sequence encodings are: \n",
            "[UNK]  -  [1 0 0 0 0 0 0 0 0 0]\n",
            "the  -  [2 0 0 0 0 0 0 0 0 0]\n",
            "i  -  [3 0 0 0 0 0 0 0 0 0]\n",
            "food  -  [4 0 0 0 0 0 0 0 0 0]\n",
            "not  -  [5 0 0 0 0 0 0 0 0 0]\n",
            "place  -  [6 0 0 0 0 0 0 0 0 0]\n",
            "good  -  [7 0 0 0 0 0 0 0 0 0]\n",
            "service  -  [8 0 0 0 0 0 0 0 0 0]\n",
            "great  -  [9 0 0 0 0 0 0 0 0 0]\n"
          ]
        }
      ]
    },
    {
      "cell_type": "markdown",
      "source": [
        "Wrapper function for preparing the data to be used as tensorflow dataset:"
      ],
      "metadata": {
        "id": "EcyJOtwfO3ac"
      }
    },
    {
      "cell_type": "code",
      "source": [
        "BUFFER_SIZE = 10000\n",
        "BATCH_SIZE = 64\n",
        "\n",
        "def wrap_tf_dataset(data, shuffle=False, buffer_size=BUFFER_SIZE, bath_size=BATCH_SIZE):\n",
        "\n",
        "  tf_data = convert_to_tf(data)\n",
        "\n",
        "  if(shuffle):\n",
        "    # shuffle the data for training and create batches of (text, label):\n",
        "    tf_data = tf_data.shuffle(BUFFER_SIZE)\n",
        "  \n",
        "  # the test data doesn't need to be shuffled\n",
        "  tf_data = tf_data.batch(BATCH_SIZE).prefetch(tf.data.AUTOTUNE)\n",
        "\n",
        "  return tf_data"
      ],
      "metadata": {
        "id": "0nl1TcL7O9tr"
      },
      "execution_count": 113,
      "outputs": []
    },
    {
      "cell_type": "markdown",
      "source": [
        "## Splitting the dataset into train and validation sets\n",
        "\n",
        "Splitting the data into train and test sets ensures that the model is not biased when predicting the output label.\n",
        "\n",
        "The dataset will be split in 8/2 ratio, using 80% of the available data as train data, and the remaining 20% will be used for evaluation (test set).\n",
        "\n",
        "The training set will be further split in an 9/1 ratio to obtain a smaller validation set.\n",
        "\n",
        "* training set: 70% \n",
        "* validation set: 10%\n",
        "* test set: 20%"
      ],
      "metadata": {
        "id": "lpm4Xd1WltMz"
      }
    },
    {
      "cell_type": "code",
      "source": [
        "def split_dataset(X, y, test_split = 0.2, validation_split=0.1):\n",
        "  # split the initial dataset into training and test sets\n",
        "  X_int, X_test, y_int, y_test = train_test_split(X, y, test_size=test_split, random_state=42)\n",
        "  # split the training dataset further to obtain a validation set\n",
        "  X_train, X_val, y_train, y_val = train_test_split(X, y, test_size=validation_split, random_state=42)\n",
        "  \n",
        "  return [(X_train, y_train), (X_val, y_val), (X_test, y_test)]"
      ],
      "metadata": {
        "id": "T1peJJrtwNyv"
      },
      "execution_count": 110,
      "outputs": []
    },
    {
      "cell_type": "code",
      "source": [
        "processed_data, word_index = preprocessing_layer(raw_data)\n",
        "\n",
        "X = processed_data['Review']\n",
        "y = processed_data['Liked']\n",
        "\n",
        "test_split = 0.2\n",
        "validation_split = 0.1\n",
        "\n",
        "inputs = split_dataset(X, y, test_split, validation_split)\n",
        "\n",
        "(X_train, y_train) = inputs[0]\n",
        "(X_val, y_val) = inputs[1]\n",
        "(X_test, y_test) = inputs[2]\n",
        "\n",
        "print(\"train set size: \", X_train.shape[0])\n",
        "print(\"validation set size: \", X_val.shape[0])\n",
        "print(\"test set size: \", X_test.shape[0])"
      ],
      "metadata": {
        "colab": {
          "base_uri": "https://localhost:8080/"
        },
        "id": "rgZEOdQ5-1z0",
        "outputId": "0bfd1c8f-da67-45d5-fb9e-075b5f118694"
      },
      "execution_count": 111,
      "outputs": [
        {
          "output_type": "stream",
          "name": "stdout",
          "text": [
            "train set size:  896\n",
            "validation set size:  100\n",
            "test set size:  200\n"
          ]
        }
      ]
    },
    {
      "cell_type": "markdown",
      "source": [
        "# Create the model"
      ],
      "metadata": {
        "id": "UWFrd9MWDMGy"
      }
    },
    {
      "cell_type": "markdown",
      "source": [
        "RNN\n",
        "LSTM\n",
        "GRU"
      ],
      "metadata": {
        "id": "PnGY-ZYQ7TWs"
      }
    },
    {
      "cell_type": "markdown",
      "source": [
        "![image.png](data:image/png;base64,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)\n"
      ],
      "metadata": {
        "id": "ckXSGUgCFdCP"
      }
    },
    {
      "cell_type": "markdown",
      "source": [
        "Using the keras _Sequential_ the model can be build by stacking up layers linearly:\n",
        "\n",
        "Types of layers:\n",
        "* **Encoder** (keras.layers.TextVectorization): it converts the input text to a **sequence of token indices**. \n",
        "* **Embedding**: assigns to each word a vector, converting the sequence of word indices to a sequence of vectors, which can be trained. (similar words often have similar vectors) It\n",
        "takes as argument an integer-encoded vocabulary of the size _vocab_size_ and a vector dimension, and the output of this layer is : (batch, sequence, embedding).\n",
        "* **Dropout**: drop some of the nodes to prevent overfitting. Takes as argument a threshold value which represents the probability above which the nodes have to be dropped.\n",
        "* **Pooling** (GlobalAveragingPooling1D): returns a fixed-length vector by re-computing the average over the dimension of the sequences to be able to handle input of variable length and without losing information.\n",
        "* **Bidirectional**: propagates the input forward and backward (feedback) between the RNN layers, then it concatenates the result. The main advantage of an additional Bidirectional layer is that it can take into consideration the past, present and future events when making a prediction. This makes it useful for the several text prediction or speech recognition systems, where the surrounding context has to be known in order to predict the current output.\n",
        "* **Dense** (classification layer): input arguments are the nr of neurons in the hidden respectively the output layers and the activation function.\n",
        "\n",
        "Activation functions:\n",
        "* Hidden layers \n",
        "\n",
        "  -> **ReLU**:\n",
        "  \n",
        "   keeps the original weighted sum of the positive inputs. If the input is positive, then it returns it as it is (without saturing it), but if the input is negative it will return 0 instead.\n",
        "* Output layer \n",
        "\n",
        "  -> **Sigmoid**:\n",
        "  \n",
        "   maps the output value to a probability, in the interval [0,1]. In case of the binary classification problem, an output above a given threshold, say 0.5 means positive response, while a value below 0.5 is classified as negative.\n",
        "\n",
        "  -> **Softmax**:\n",
        "  \n",
        "   it maps the non-normalized output of data to the probability distribution for output classes. All output elements will be in the range [0,1] and they will sum up to 1. The larger the input number the larger the value of the output probabilities will be.\n",
        "\n",
        "> The difference between the two activation functions is that the Sigmoid is used for binary classification, while the Softmax is used for multi-classification in the Logistic Regression model. \n",
        "  \n",
        ">  Another difference, is that the outputs of a sigmoid function are independent, while in case of the softmax they are related to each other, because of the constraint that they must sum up to 1.\n",
        "\n",
        ">  When using a **sigmoid** activation function, for a binary predictor, like in this example, there is only 1 output neuron, which can be either 1 indicating a positive sentiment or 0 which means a negative sentiment.\n",
        "\n",
        ">  If using a **softmax** activation function, the final dense layer will have 2 neurons and the softmax determines the probability of inclining towards either the positive or negative label."
      ],
      "metadata": {
        "id": "cjMUI1gp3YGN"
      }
    },
    {
      "cell_type": "markdown",
      "source": [
        "Build the model adding layers to it:"
      ],
      "metadata": {
        "id": "haEasJaxhCRN"
      }
    },
    {
      "cell_type": "code",
      "source": [
        "vocab_size = 10000\n",
        "max_sequence_length = 256\n",
        "\n",
        "# add a sequential layer for grouping the other linear layers\n",
        "model = Sequential()\n",
        "# add an embedding layer for processing the input text\n",
        "model.add(Embedding(input_dim = vocab_size, output_dim = 16))\n",
        "# averaging pool layer\n",
        "model.add(GlobalAveragePooling1D())\n",
        "# hidden layer\n",
        "model.add(Dense(16, activation = 'relu'))\n",
        "# output layer consisting of only 1 neuron for binary prediction\n",
        "model.add(Dense(1, activation = 'sigmoid'))\n",
        "\n",
        "model.summary()"
      ],
      "metadata": {
        "colab": {
          "base_uri": "https://localhost:8080/"
        },
        "id": "U7XzsNjUDRwr",
        "outputId": "4802886b-34fa-4487-a163-491a32e6248e"
      },
      "execution_count": 25,
      "outputs": [
        {
          "output_type": "stream",
          "name": "stdout",
          "text": [
            "Model: \"sequential\"\n",
            "_________________________________________________________________\n",
            " Layer (type)                Output Shape              Param #   \n",
            "=================================================================\n",
            " embedding (Embedding)       (None, None, 16)          160000    \n",
            "                                                                 \n",
            " global_average_pooling1d (G  (None, 16)               0         \n",
            " lobalAveragePooling1D)                                          \n",
            "                                                                 \n",
            " dense (Dense)               (None, 16)                272       \n",
            "                                                                 \n",
            " dense_1 (Dense)             (None, 1)                 17        \n",
            "                                                                 \n",
            "=================================================================\n",
            "Total params: 160,289\n",
            "Trainable params: 160,289\n",
            "Non-trainable params: 0\n",
            "_________________________________________________________________\n"
          ]
        }
      ]
    },
    {
      "cell_type": "markdown",
      "source": [
        "Compile the model by specifying the loss function and optimizer to use. Additionally, the evaluation metrics can also be specified:"
      ],
      "metadata": {
        "id": "02M5UzoahGi4"
      }
    },
    {
      "cell_type": "code",
      "source": [
        "model.compile(loss=\"binary_crossentropy\",\n",
        " optimizer=\"adam\",\n",
        " metrics=[\"accuracy\"])"
      ],
      "metadata": {
        "id": "hB_xRoORg_Ly"
      },
      "execution_count": 26,
      "outputs": []
    },
    {
      "cell_type": "markdown",
      "source": [
        "Training and evaluating the model:"
      ],
      "metadata": {
        "id": "YcJmqiODiIkw"
      }
    },
    {
      "cell_type": "markdown",
      "source": [
        "Define a function for plotting the results (loss, evaluation metrics) as the epochs evolve:"
      ],
      "metadata": {
        "id": "PGqQ-UvpnR29"
      }
    },
    {
      "cell_type": "code",
      "source": [
        "def plot_epochs(history):\n",
        "  \"\"\"\n",
        "    Plots the values of loss and the specified evaluation metric along the epochs.\n",
        "  \"\"\"\n",
        "  pd.DataFrame(history.history).plot(figsize=(8, 5))\n",
        "  plt.grid(True)\n",
        "  plt.gca().set_ylim(0, 1) # set the vertical range to [0-1]\n",
        "  plt.show()"
      ],
      "metadata": {
        "id": "k9YGZk6Hna_k"
      },
      "execution_count": 27,
      "outputs": []
    },
    {
      "cell_type": "markdown",
      "source": [
        "Train the model on a training set (specify the number of epochs to train) and evaluate it on the validation set."
      ],
      "metadata": {
        "id": "sde8MalfneVE"
      }
    },
    {
      "cell_type": "code",
      "source": [
        "history = model.fit(X_train, y_train, batch_size = 16, epochs = 60, validation_data=(X_val, y_val), verbose = 1)"
      ],
      "metadata": {
        "colab": {
          "base_uri": "https://localhost:8080/"
        },
        "id": "WbIINUmZiiCm",
        "outputId": "5e847bb8-45dc-40bd-9433-3bc905783d2e"
      },
      "execution_count": 28,
      "outputs": [
        {
          "output_type": "stream",
          "name": "stdout",
          "text": [
            "Epoch 1/60\n",
            "56/56 [==============================] - 2s 15ms/step - loss: 0.6889 - accuracy: 0.5714 - val_loss: 0.6831 - val_accuracy: 0.6400\n",
            "Epoch 2/60\n",
            "56/56 [==============================] - 0s 6ms/step - loss: 0.6673 - accuracy: 0.7299 - val_loss: 0.6653 - val_accuracy: 0.6000\n",
            "Epoch 3/60\n",
            "56/56 [==============================] - 0s 6ms/step - loss: 0.6205 - accuracy: 0.7824 - val_loss: 0.6380 - val_accuracy: 0.5800\n",
            "Epoch 4/60\n",
            "56/56 [==============================] - 0s 7ms/step - loss: 0.5407 - accuracy: 0.8013 - val_loss: 0.6086 - val_accuracy: 0.6100\n",
            "Epoch 5/60\n",
            "56/56 [==============================] - 0s 9ms/step - loss: 0.4541 - accuracy: 0.8170 - val_loss: 0.6103 - val_accuracy: 0.6000\n",
            "Epoch 6/60\n",
            "56/56 [==============================] - 0s 8ms/step - loss: 0.3982 - accuracy: 0.8092 - val_loss: 0.6053 - val_accuracy: 0.6300\n",
            "Epoch 7/60\n",
            "56/56 [==============================] - 0s 6ms/step - loss: 0.3661 - accuracy: 0.8058 - val_loss: 0.6164 - val_accuracy: 0.6100\n",
            "Epoch 8/60\n",
            "56/56 [==============================] - 0s 7ms/step - loss: 0.3491 - accuracy: 0.8103 - val_loss: 0.6196 - val_accuracy: 0.6300\n",
            "Epoch 9/60\n",
            "56/56 [==============================] - 0s 6ms/step - loss: 0.3376 - accuracy: 0.8125 - val_loss: 0.6228 - val_accuracy: 0.6300\n",
            "Epoch 10/60\n",
            "56/56 [==============================] - 0s 8ms/step - loss: 0.3284 - accuracy: 0.8069 - val_loss: 0.6299 - val_accuracy: 0.6400\n",
            "Epoch 11/60\n",
            "56/56 [==============================] - 0s 7ms/step - loss: 0.3260 - accuracy: 0.8092 - val_loss: 0.6298 - val_accuracy: 0.6000\n",
            "Epoch 12/60\n",
            "56/56 [==============================] - 0s 7ms/step - loss: 0.3218 - accuracy: 0.8092 - val_loss: 0.6350 - val_accuracy: 0.5900\n",
            "Epoch 13/60\n",
            "56/56 [==============================] - 0s 7ms/step - loss: 0.3156 - accuracy: 0.8002 - val_loss: 0.6425 - val_accuracy: 0.6200\n",
            "Epoch 14/60\n",
            "56/56 [==============================] - 0s 4ms/step - loss: 0.3141 - accuracy: 0.8047 - val_loss: 0.6400 - val_accuracy: 0.6300\n",
            "Epoch 15/60\n",
            "56/56 [==============================] - 0s 3ms/step - loss: 0.3121 - accuracy: 0.8058 - val_loss: 0.6515 - val_accuracy: 0.6200\n",
            "Epoch 16/60\n",
            "56/56 [==============================] - 0s 4ms/step - loss: 0.3122 - accuracy: 0.8058 - val_loss: 0.6495 - val_accuracy: 0.6200\n",
            "Epoch 17/60\n",
            "56/56 [==============================] - 0s 3ms/step - loss: 0.3081 - accuracy: 0.8036 - val_loss: 0.6582 - val_accuracy: 0.6200\n",
            "Epoch 18/60\n",
            "56/56 [==============================] - 0s 4ms/step - loss: 0.3088 - accuracy: 0.8047 - val_loss: 0.6530 - val_accuracy: 0.5900\n",
            "Epoch 19/60\n",
            "56/56 [==============================] - 0s 4ms/step - loss: 0.3050 - accuracy: 0.8136 - val_loss: 0.6623 - val_accuracy: 0.5600\n",
            "Epoch 20/60\n",
            "56/56 [==============================] - 0s 4ms/step - loss: 0.3053 - accuracy: 0.8058 - val_loss: 0.6580 - val_accuracy: 0.6200\n",
            "Epoch 21/60\n",
            "56/56 [==============================] - 0s 4ms/step - loss: 0.3035 - accuracy: 0.8080 - val_loss: 0.6683 - val_accuracy: 0.6000\n",
            "Epoch 22/60\n",
            "56/56 [==============================] - 0s 4ms/step - loss: 0.3044 - accuracy: 0.8080 - val_loss: 0.6572 - val_accuracy: 0.6500\n",
            "Epoch 23/60\n",
            "56/56 [==============================] - 0s 4ms/step - loss: 0.3033 - accuracy: 0.8136 - val_loss: 0.6776 - val_accuracy: 0.5900\n",
            "Epoch 24/60\n",
            "56/56 [==============================] - 0s 4ms/step - loss: 0.3026 - accuracy: 0.8092 - val_loss: 0.6670 - val_accuracy: 0.6000\n",
            "Epoch 25/60\n",
            "56/56 [==============================] - 0s 4ms/step - loss: 0.3005 - accuracy: 0.8080 - val_loss: 0.6718 - val_accuracy: 0.5900\n",
            "Epoch 26/60\n",
            "56/56 [==============================] - 0s 4ms/step - loss: 0.3014 - accuracy: 0.8092 - val_loss: 0.6726 - val_accuracy: 0.6100\n",
            "Epoch 27/60\n",
            "56/56 [==============================] - 0s 4ms/step - loss: 0.3021 - accuracy: 0.8047 - val_loss: 0.6796 - val_accuracy: 0.6500\n",
            "Epoch 28/60\n",
            "56/56 [==============================] - 0s 4ms/step - loss: 0.3000 - accuracy: 0.8058 - val_loss: 0.6733 - val_accuracy: 0.6200\n",
            "Epoch 29/60\n",
            "56/56 [==============================] - 0s 4ms/step - loss: 0.3005 - accuracy: 0.8080 - val_loss: 0.6801 - val_accuracy: 0.5800\n",
            "Epoch 30/60\n",
            "56/56 [==============================] - 0s 3ms/step - loss: 0.2987 - accuracy: 0.8114 - val_loss: 0.6828 - val_accuracy: 0.6100\n",
            "Epoch 31/60\n",
            "56/56 [==============================] - 0s 4ms/step - loss: 0.2999 - accuracy: 0.8025 - val_loss: 0.6769 - val_accuracy: 0.6300\n",
            "Epoch 32/60\n",
            "56/56 [==============================] - 0s 4ms/step - loss: 0.2986 - accuracy: 0.8092 - val_loss: 0.6764 - val_accuracy: 0.6500\n",
            "Epoch 33/60\n",
            "56/56 [==============================] - 0s 4ms/step - loss: 0.3009 - accuracy: 0.8025 - val_loss: 0.6799 - val_accuracy: 0.6500\n",
            "Epoch 34/60\n",
            "56/56 [==============================] - 0s 4ms/step - loss: 0.2974 - accuracy: 0.8047 - val_loss: 0.6851 - val_accuracy: 0.6400\n",
            "Epoch 35/60\n",
            "56/56 [==============================] - 0s 3ms/step - loss: 0.2974 - accuracy: 0.8114 - val_loss: 0.6911 - val_accuracy: 0.5800\n",
            "Epoch 36/60\n",
            "56/56 [==============================] - 0s 4ms/step - loss: 0.2980 - accuracy: 0.8047 - val_loss: 0.6818 - val_accuracy: 0.6300\n",
            "Epoch 37/60\n",
            "56/56 [==============================] - 0s 4ms/step - loss: 0.2981 - accuracy: 0.8058 - val_loss: 0.6904 - val_accuracy: 0.5900\n",
            "Epoch 38/60\n",
            "56/56 [==============================] - 0s 4ms/step - loss: 0.2972 - accuracy: 0.8080 - val_loss: 0.6911 - val_accuracy: 0.6500\n",
            "Epoch 39/60\n",
            "56/56 [==============================] - 0s 4ms/step - loss: 0.2966 - accuracy: 0.8170 - val_loss: 0.6923 - val_accuracy: 0.6000\n",
            "Epoch 40/60\n",
            "56/56 [==============================] - 0s 3ms/step - loss: 0.2968 - accuracy: 0.8069 - val_loss: 0.6925 - val_accuracy: 0.5800\n",
            "Epoch 41/60\n",
            "56/56 [==============================] - 0s 4ms/step - loss: 0.2971 - accuracy: 0.8125 - val_loss: 0.6983 - val_accuracy: 0.6000\n",
            "Epoch 42/60\n",
            "56/56 [==============================] - 0s 4ms/step - loss: 0.2967 - accuracy: 0.8136 - val_loss: 0.6952 - val_accuracy: 0.6400\n",
            "Epoch 43/60\n",
            "56/56 [==============================] - 0s 4ms/step - loss: 0.2966 - accuracy: 0.7958 - val_loss: 0.6907 - val_accuracy: 0.6500\n",
            "Epoch 44/60\n",
            "56/56 [==============================] - 0s 4ms/step - loss: 0.2951 - accuracy: 0.8158 - val_loss: 0.6970 - val_accuracy: 0.6200\n",
            "Epoch 45/60\n",
            "56/56 [==============================] - 0s 3ms/step - loss: 0.2952 - accuracy: 0.8058 - val_loss: 0.6955 - val_accuracy: 0.6000\n",
            "Epoch 46/60\n",
            "56/56 [==============================] - 0s 4ms/step - loss: 0.2955 - accuracy: 0.8147 - val_loss: 0.6951 - val_accuracy: 0.6500\n",
            "Epoch 47/60\n",
            "56/56 [==============================] - 0s 3ms/step - loss: 0.2951 - accuracy: 0.8047 - val_loss: 0.7016 - val_accuracy: 0.6400\n",
            "Epoch 48/60\n",
            "56/56 [==============================] - 0s 3ms/step - loss: 0.2970 - accuracy: 0.8158 - val_loss: 0.6971 - val_accuracy: 0.6400\n",
            "Epoch 49/60\n",
            "56/56 [==============================] - 0s 4ms/step - loss: 0.2955 - accuracy: 0.8170 - val_loss: 0.7052 - val_accuracy: 0.5900\n",
            "Epoch 50/60\n",
            "56/56 [==============================] - 0s 3ms/step - loss: 0.2953 - accuracy: 0.8047 - val_loss: 0.7065 - val_accuracy: 0.6100\n",
            "Epoch 51/60\n",
            "56/56 [==============================] - 0s 4ms/step - loss: 0.2959 - accuracy: 0.8181 - val_loss: 0.7018 - val_accuracy: 0.6200\n",
            "Epoch 52/60\n",
            "56/56 [==============================] - 0s 4ms/step - loss: 0.2957 - accuracy: 0.8069 - val_loss: 0.7030 - val_accuracy: 0.6200\n",
            "Epoch 53/60\n",
            "56/56 [==============================] - 0s 4ms/step - loss: 0.2964 - accuracy: 0.8080 - val_loss: 0.7100 - val_accuracy: 0.5900\n",
            "Epoch 54/60\n",
            "56/56 [==============================] - 0s 4ms/step - loss: 0.2947 - accuracy: 0.8025 - val_loss: 0.7035 - val_accuracy: 0.6100\n",
            "Epoch 55/60\n",
            "56/56 [==============================] - 0s 4ms/step - loss: 0.2938 - accuracy: 0.7980 - val_loss: 0.7031 - val_accuracy: 0.6500\n",
            "Epoch 56/60\n",
            "56/56 [==============================] - 0s 4ms/step - loss: 0.2936 - accuracy: 0.8103 - val_loss: 0.7045 - val_accuracy: 0.6300\n",
            "Epoch 57/60\n",
            "56/56 [==============================] - 0s 3ms/step - loss: 0.2936 - accuracy: 0.8092 - val_loss: 0.7095 - val_accuracy: 0.6200\n",
            "Epoch 58/60\n",
            "56/56 [==============================] - 0s 4ms/step - loss: 0.2940 - accuracy: 0.8114 - val_loss: 0.7069 - val_accuracy: 0.6500\n",
            "Epoch 59/60\n",
            "56/56 [==============================] - 0s 4ms/step - loss: 0.2948 - accuracy: 0.8058 - val_loss: 0.7109 - val_accuracy: 0.6600\n",
            "Epoch 60/60\n",
            "56/56 [==============================] - 0s 4ms/step - loss: 0.2935 - accuracy: 0.8069 - val_loss: 0.7121 - val_accuracy: 0.5700\n"
          ]
        }
      ]
    },
    {
      "cell_type": "code",
      "source": [
        "plot_epochs(history)"
      ],
      "metadata": {
        "colab": {
          "base_uri": "https://localhost:8080/",
          "height": 324
        },
        "id": "WRNU2sz9nKON",
        "outputId": "3428ac7b-24ee-4d3e-c706-f04f5f76f084"
      },
      "execution_count": 29,
      "outputs": [
        {
          "output_type": "display_data",
          "data": {
            "text/plain": [
              "<Figure size 576x360 with 1 Axes>"
            ],
            "image/png": "[encoded data removed]"
          },
          "metadata": {
            "needs_background": "light"
          }
        }
      ]
    },
    {
      "cell_type": "code",
      "source": [
        "results = model.evaluate(X_test, y_test)"
      ],
      "metadata": {
        "colab": {
          "base_uri": "https://localhost:8080/"
        },
        "id": "i0ZLCzarkEXL",
        "outputId": "be6f9f9d-ed25-4294-a715-cd54401e8cd3"
      },
      "execution_count": 30,
      "outputs": [
        {
          "output_type": "stream",
          "name": "stdout",
          "text": [
            "7/7 [==============================] - 0s 2ms/step - loss: 0.5330 - accuracy: 0.6650\n"
          ]
        }
      ]
    },
    {
      "cell_type": "markdown",
      "source": [
        "Define a function for reconstructing the original text before the vectorization process (based on the word_index):"
      ],
      "metadata": {
        "id": "jHIhk8uvs28h"
      }
    },
    {
      "cell_type": "code",
      "source": [
        "def decode_text(text, word_index):\n",
        "    \"\"\"\n",
        "      Decode the sequence of word indices using the given word_index which contains all the unique tokens and their associated index values.\n",
        "      Return the original text phrase.\n",
        "    \"\"\"\n",
        "    # build a reverse word index\n",
        "    reverse_word_index = dict([(value, key) for (key, value) in word_index.items()])\n",
        "    # reconstruct the original sentence by mapping the indices to their text values\n",
        "    return \" \".join([reverse_word_index.get(i, '?') for i in text])"
      ],
      "metadata": {
        "id": "BAMSW30ukr2E"
      },
      "execution_count": 31,
      "outputs": []
    },
    {
      "cell_type": "markdown",
      "source": [
        "Use the model to predict the output labels for the test dataset:"
      ],
      "metadata": {
        "id": "ZBidxIMJkaLF"
      }
    },
    {
      "cell_type": "code",
      "source": [
        "pred_example = X_test.iloc[10:20]\n",
        "pred_label = y_test.iloc[10:20]\n",
        "print(\"Original text: \\n\", decode_text(pred_example, word_index))\n",
        "print(\"Predicted probability: \\n\", model.predict(pred_example))"
      ],
      "metadata": {
        "colab": {
          "base_uri": "https://localhost:8080/"
        },
        "id": "sASAaHIUkfZ0",
        "outputId": "369a83ac-46e9-4651-fb1d-6ccdc5a60a7a"
      },
      "execution_count": 32,
      "outputs": [
        {
          "output_type": "stream",
          "name": "stdout",
          "text": [
            "Original text: \n",
            " ? ? may ? ? menu rick ? recommend textur\n",
            "Predicted probability: \n",
            " [[0.5231929 ]\n",
            " [0.5718228 ]\n",
            " [0.00286797]\n",
            " [0.00206846]\n",
            " [0.81157994]\n",
            " [0.28811753]\n",
            " [0.94304895]\n",
            " [0.48710924]\n",
            " [0.33865938]\n",
            " [0.99973714]]\n"
          ]
        }
      ]
    },
    {
      "cell_type": "markdown",
      "source": [
        "Finally, save the model:"
      ],
      "metadata": {
        "id": "vf6IKb5-vOOQ"
      }
    },
    {
      "cell_type": "code",
      "source": [
        "output_loc = 'results/model_1'\n",
        "model.save(output_loc)"
      ],
      "metadata": {
        "colab": {
          "base_uri": "https://localhost:8080/"
        },
        "id": "0Q3qcrBjvSnp",
        "outputId": "af95b846-bb6b-4f1c-f4a6-e2928bbedbc8"
      },
      "execution_count": 33,
      "outputs": [
        {
          "output_type": "stream",
          "name": "stdout",
          "text": [
            "INFO:tensorflow:Assets written to: results/model_1/assets\n"
          ]
        }
      ]
    },
    {
      "cell_type": "markdown",
      "source": [
        "*Remark: Loading back the model from the specified location by:"
      ],
      "metadata": {
        "id": "ZHoWekLovqn8"
      }
    },
    {
      "cell_type": "code",
      "source": [
        "model = keras.models.load_model(output_loc)\n",
        "model.summary()"
      ],
      "metadata": {
        "colab": {
          "base_uri": "https://localhost:8080/"
        },
        "id": "FRs9L0-qvkq7",
        "outputId": "52aa3bba-dfb2-4eaf-d091-545181202e75"
      },
      "execution_count": 34,
      "outputs": [
        {
          "output_type": "stream",
          "name": "stdout",
          "text": [
            "Model: \"sequential\"\n",
            "_________________________________________________________________\n",
            " Layer (type)                Output Shape              Param #   \n",
            "=================================================================\n",
            " embedding (Embedding)       (None, None, 16)          160000    \n",
            "                                                                 \n",
            " global_average_pooling1d (G  (None, 16)               0         \n",
            " lobalAveragePooling1D)                                          \n",
            "                                                                 \n",
            " dense (Dense)               (None, 16)                272       \n",
            "                                                                 \n",
            " dense_1 (Dense)             (None, 1)                 17        \n",
            "                                                                 \n",
            "=================================================================\n",
            "Total params: 160,289\n",
            "Trainable params: 160,289\n",
            "Non-trainable params: 0\n",
            "_________________________________________________________________\n"
          ]
        }
      ]
    },
    {
      "cell_type": "markdown",
      "source": [
        "# Text Classification with RNN steps:"
      ],
      "metadata": {
        "id": "H2uG3_OnTzOm"
      }
    },
    {
      "cell_type": "markdown",
      "source": [
        "1. Prepare and split the dataset"
      ],
      "metadata": {
        "id": "a5tx7j_STE0q"
      }
    },
    {
      "cell_type": "code",
      "source": [
        "# split the dataset into training and test sets in 8/2 ratio\n",
        "train_data = raw_data.sample(frac=0.8, replace=True, random_state=1)\n",
        "test_data = raw_data.drop(train_data.index)\n",
        "\n",
        "# convert the pandas dataframes into tensorflow datasets\n",
        "tf_train = wrap_tf_dataset(train_data)\n",
        "tf_test = wrap_tf_dataset(test_data)"
      ],
      "metadata": {
        "id": "2jk6hpLLxqaK"
      },
      "execution_count": 114,
      "outputs": []
    },
    {
      "cell_type": "markdown",
      "source": [
        " 2. Build the model"
      ],
      "metadata": {
        "id": "AQq6HwiwTc8b"
      }
    },
    {
      "cell_type": "code",
      "source": [
        "# create and apply the encoder on the train dataset\n",
        "encoder = text_vectorization_layer(tf_train, VOCAB_SIZE, max_sequence_length)\n",
        "\n",
        "# build the model\n",
        "model = tf.keras.Sequential([\n",
        "    encoder,\n",
        "    tf.keras.layers.Embedding(\n",
        "        input_dim=1000,\n",
        "        output_dim=64,\n",
        "        # Use masking to handle the variable sequence lengths\n",
        "        mask_zero=True),\n",
        "    tf.keras.layers.Bidirectional(tf.keras.layers.LSTM(64)),\n",
        "    tf.keras.layers.Dense(64, activation='relu'),\n",
        "    tf.keras.layers.Dense(1)\n",
        "])"
      ],
      "metadata": {
        "id": "ywp6OcXeTkHA"
      },
      "execution_count": 116,
      "outputs": []
    },
    {
      "cell_type": "markdown",
      "source": [
        "2.1. Verify that the result of prediction remains the same for both padded and not padded input sequence."
      ],
      "metadata": {
        "id": "bHsKHr2SSsBJ"
      }
    },
    {
      "cell_type": "code",
      "source": [
        "sample_text = ('The food was good. The atmosphere and the customer service were excellent. I would recommend this restaurant.')\n",
        "predictions = model.predict(np.array([sample_text]))\n",
        "print(predictions[0])"
      ],
      "metadata": {
        "colab": {
          "base_uri": "https://localhost:8080/"
        },
        "id": "37UcOCk5SD2t",
        "outputId": "1a554940-b0ac-4c1d-df28-661ee8e97efc"
      },
      "execution_count": 117,
      "outputs": [
        {
          "output_type": "stream",
          "name": "stdout",
          "text": [
            "[-0.00603106]\n"
          ]
        }
      ]
    },
    {
      "cell_type": "code",
      "source": [
        "padding = \"the \" * 2000\n",
        "predictions = model.predict(np.array([sample_text, padding]))\n",
        "print(predictions[0])"
      ],
      "metadata": {
        "colab": {
          "base_uri": "https://localhost:8080/"
        },
        "id": "L3T1vTqqSmtc",
        "outputId": "51ce191e-1fb1-49bc-8bfa-4ad29d15a6f6"
      },
      "execution_count": 118,
      "outputs": [
        {
          "output_type": "stream",
          "name": "stdout",
          "text": [
            "[-0.00603106]\n"
          ]
        }
      ]
    },
    {
      "cell_type": "markdown",
      "source": [
        "3. Configure the model"
      ],
      "metadata": {
        "id": "z4SGVfm6TC76"
      }
    },
    {
      "cell_type": "code",
      "source": [
        "# configure and compile the model\n",
        "model.compile(loss=tf.keras.losses.BinaryCrossentropy(from_logits=True),\n",
        "              optimizer=tf.keras.optimizers.Adam(1e-4),\n",
        "              metrics=['accuracy'])"
      ],
      "metadata": {
        "id": "WyDlZOpcS9cB"
      },
      "execution_count": 119,
      "outputs": []
    },
    {
      "cell_type": "markdown",
      "source": [
        "4. Train the model"
      ],
      "metadata": {
        "id": "LlMz7pGATQX7"
      }
    },
    {
      "cell_type": "code",
      "source": [
        "history = model.fit(tf_train, \n",
        "                    batch_size=32,\n",
        "                    epochs=30,\n",
        "                    validation_data=tf_test)"
      ],
      "metadata": {
        "colab": {
          "base_uri": "https://localhost:8080/"
        },
        "id": "K6DwIlJNTR7e",
        "outputId": "79f68fd8-d5d0-4073-c6c8-e158bf9f5b32"
      },
      "execution_count": 121,
      "outputs": [
        {
          "output_type": "stream",
          "name": "stdout",
          "text": [
            "Epoch 1/30\n",
            "16/16 [==============================] - 1s 62ms/step - loss: 0.6507 - accuracy: 0.4990 - val_loss: 0.6399 - val_accuracy: 0.4990\n",
            "Epoch 2/30\n",
            "16/16 [==============================] - 2s 120ms/step - loss: 0.6297 - accuracy: 0.4990 - val_loss: 0.6143 - val_accuracy: 0.5010\n",
            "Epoch 3/30\n",
            "16/16 [==============================] - 1s 39ms/step - loss: 0.6000 - accuracy: 0.5100 - val_loss: 0.5787 - val_accuracy: 0.5371\n",
            "Epoch 4/30\n",
            "16/16 [==============================] - 1s 39ms/step - loss: 0.5589 - accuracy: 0.5622 - val_loss: 0.5303 - val_accuracy: 0.6416\n",
            "Epoch 5/30\n",
            "16/16 [==============================] - 1s 39ms/step - loss: 0.5048 - accuracy: 0.6908 - val_loss: 0.4689 - val_accuracy: 0.7651\n",
            "Epoch 6/30\n",
            "16/16 [==============================] - 1s 40ms/step - loss: 0.4396 - accuracy: 0.7962 - val_loss: 0.4001 - val_accuracy: 0.8474\n",
            "Epoch 7/30\n",
            "16/16 [==============================] - 1s 38ms/step - loss: 0.3721 - accuracy: 0.8584 - val_loss: 0.3351 - val_accuracy: 0.8926\n",
            "Epoch 8/30\n",
            "16/16 [==============================] - 1s 39ms/step - loss: 0.3126 - accuracy: 0.8946 - val_loss: 0.2821 - val_accuracy: 0.9127\n",
            "Epoch 9/30\n",
            "16/16 [==============================] - 1s 38ms/step - loss: 0.2655 - accuracy: 0.9157 - val_loss: 0.2416 - val_accuracy: 0.9277\n",
            "Epoch 10/30\n",
            "16/16 [==============================] - 1s 38ms/step - loss: 0.2296 - accuracy: 0.9267 - val_loss: 0.2109 - val_accuracy: 0.9408\n",
            "Epoch 11/30\n",
            "16/16 [==============================] - 1s 38ms/step - loss: 0.2020 - accuracy: 0.9428 - val_loss: 0.1867 - val_accuracy: 0.9488\n",
            "Epoch 12/30\n",
            "16/16 [==============================] - 1s 44ms/step - loss: 0.1797 - accuracy: 0.9508 - val_loss: 0.1663 - val_accuracy: 0.9538\n",
            "Epoch 13/30\n",
            "16/16 [==============================] - 1s 38ms/step - loss: 0.1601 - accuracy: 0.9538 - val_loss: 0.1476 - val_accuracy: 0.9568\n",
            "Epoch 14/30\n",
            "16/16 [==============================] - 1s 38ms/step - loss: 0.1420 - accuracy: 0.9588 - val_loss: 0.1311 - val_accuracy: 0.9608\n",
            "Epoch 15/30\n",
            "16/16 [==============================] - 1s 37ms/step - loss: 0.1265 - accuracy: 0.9618 - val_loss: 0.1176 - val_accuracy: 0.9669\n",
            "Epoch 16/30\n",
            "16/16 [==============================] - 1s 39ms/step - loss: 0.1137 - accuracy: 0.9669 - val_loss: 0.1063 - val_accuracy: 0.9709\n",
            "Epoch 17/30\n",
            "16/16 [==============================] - 1s 38ms/step - loss: 0.1030 - accuracy: 0.9709 - val_loss: 0.0966 - val_accuracy: 0.9759\n",
            "Epoch 18/30\n",
            "16/16 [==============================] - 1s 41ms/step - loss: 0.0937 - accuracy: 0.9759 - val_loss: 0.0883 - val_accuracy: 0.9779\n",
            "Epoch 19/30\n",
            "16/16 [==============================] - 1s 38ms/step - loss: 0.0858 - accuracy: 0.9779 - val_loss: 0.0810 - val_accuracy: 0.9779\n",
            "Epoch 20/30\n",
            "16/16 [==============================] - 1s 38ms/step - loss: 0.0788 - accuracy: 0.9779 - val_loss: 0.0746 - val_accuracy: 0.9779\n",
            "Epoch 21/30\n",
            "16/16 [==============================] - 1s 38ms/step - loss: 0.0727 - accuracy: 0.9789 - val_loss: 0.0689 - val_accuracy: 0.9799\n",
            "Epoch 22/30\n",
            "16/16 [==============================] - 1s 37ms/step - loss: 0.0672 - accuracy: 0.9799 - val_loss: 0.0638 - val_accuracy: 0.9799\n",
            "Epoch 23/30\n",
            "16/16 [==============================] - 1s 38ms/step - loss: 0.0623 - accuracy: 0.9799 - val_loss: 0.0593 - val_accuracy: 0.9819\n",
            "Epoch 24/30\n",
            "16/16 [==============================] - 1s 38ms/step - loss: 0.0579 - accuracy: 0.9819 - val_loss: 0.0551 - val_accuracy: 0.9839\n",
            "Epoch 25/30\n",
            "16/16 [==============================] - 1s 38ms/step - loss: 0.0539 - accuracy: 0.9839 - val_loss: 0.0514 - val_accuracy: 0.9849\n",
            "Epoch 26/30\n",
            "16/16 [==============================] - 1s 39ms/step - loss: 0.0503 - accuracy: 0.9849 - val_loss: 0.0480 - val_accuracy: 0.9849\n",
            "Epoch 27/30\n",
            "16/16 [==============================] - 1s 39ms/step - loss: 0.0470 - accuracy: 0.9849 - val_loss: 0.0450 - val_accuracy: 0.9880\n",
            "Epoch 28/30\n",
            "16/16 [==============================] - 1s 38ms/step - loss: 0.0441 - accuracy: 0.9880 - val_loss: 0.0422 - val_accuracy: 0.9880\n",
            "Epoch 29/30\n",
            "16/16 [==============================] - 1s 38ms/step - loss: 0.0414 - accuracy: 0.9880 - val_loss: 0.0397 - val_accuracy: 0.9880\n",
            "Epoch 30/30\n",
            "16/16 [==============================] - 1s 38ms/step - loss: 0.0389 - accuracy: 0.9880 - val_loss: 0.0373 - val_accuracy: 0.9900\n"
          ]
        }
      ]
    },
    {
      "cell_type": "markdown",
      "source": [
        "5. Evaluate the model"
      ],
      "metadata": {
        "id": "hvBFXIQyTVlk"
      }
    },
    {
      "cell_type": "code",
      "source": [
        "test_loss, test_acc = model.evaluate(tf_test)\n",
        "\n",
        "print('Test Loss:', test_loss)\n",
        "print('Test Accuracy:', test_acc)"
      ],
      "metadata": {
        "id": "ufuezYrkV9BW",
        "colab": {
          "base_uri": "https://localhost:8080/"
        },
        "outputId": "adf7270b-614d-4017-b5d8-7c5129f94251"
      },
      "execution_count": 122,
      "outputs": [
        {
          "output_type": "stream",
          "name": "stdout",
          "text": [
            "16/16 [==============================] - 0s 10ms/step - loss: 0.0373 - accuracy: 0.9900\n",
            "Test Loss: 0.037331853061914444\n",
            "Test Accuracy: 0.9899598360061646\n"
          ]
        }
      ]
    },
    {
      "cell_type": "markdown",
      "source": [
        "As we can see, after training the model for 30 epochs, we obtained a very high 98% accuracy. Thus, we can stop at this point, as training the model further, for more epochs, would result an increase in the estimated error (loss), thus a lower accuracy."
      ],
      "metadata": {
        "id": "Fsp7wXurq3Iw"
      }
    },
    {
      "cell_type": "code",
      "source": [
        "plot_graphs(history,'accuracy')"
      ],
      "metadata": {
        "id": "a7bfPJKjV_QG",
        "colab": {
          "base_uri": "https://localhost:8080/",
          "height": 279
        },
        "outputId": "83d198ea-f764-4a05-d6fe-74c0d0f80320"
      },
      "execution_count": 123,
      "outputs": [
        {
          "output_type": "display_data",
          "data": {
            "text/plain": [
              "<Figure size 432x288 with 1 Axes>"
            ],
            "image/png": "[encoded data removed]"
          },
          "metadata": {
            "needs_background": "light"
          }
        }
      ]
    },
    {
      "cell_type": "code",
      "source": [
        "plot_graphs(history,'loss')"
      ],
      "metadata": {
        "colab": {
          "base_uri": "https://localhost:8080/",
          "height": 279
        },
        "id": "ETHqhtbc2E2z",
        "outputId": "95019d92-23e4-457b-a68c-bc0735e4835a"
      },
      "execution_count": 124,
      "outputs": [
        {
          "output_type": "display_data",
          "data": {
            "text/plain": [
              "<Figure size 432x288 with 1 Axes>"
            ],
            "image/png": "[encoded data removed]"
          },
          "metadata": {
            "needs_background": "light"
          }
        }
      ]
    },
    {
      "cell_type": "markdown",
      "source": [
        "Test prediction of an example sentence:\n",
        "\n",
        "Positive predicted value indicates a positive sentiment, while\n",
        "negative value represents a negative sentiment."
      ],
      "metadata": {
        "id": "9jDiZqrQWEsF"
      }
    },
    {
      "cell_type": "code",
      "source": [
        "positive_example = ('The food was good. The atmosphere and the customer service were excellent. I would recommend this restaurant.')\n",
        "print(\"positive example prediction: \",model.predict(np.array([positive_example])))\n",
        "\n",
        "negative_example = ('The food was bad. The atmosphere and the customer service were awful. I would not recommend this restaurant.')\n",
        "print(\"negative example prediction: \",model.predict(np.array([negative_example])))"
      ],
      "metadata": {
        "id": "jW0pZGGMWCLK",
        "colab": {
          "base_uri": "https://localhost:8080/"
        },
        "outputId": "cf1345e1-0485-4f5f-9a77-42946ef4694f"
      },
      "execution_count": 125,
      "outputs": [
        {
          "output_type": "stream",
          "name": "stdout",
          "text": [
            "WARNING:tensorflow:5 out of the last 8 calls to <function Model.make_predict_function.<locals>.predict_function at 0x7fba802b4560> triggered tf.function retracing. Tracing is expensive and the excessive number of tracings could be due to (1) creating @tf.function repeatedly in a loop, (2) passing tensors with different shapes, (3) passing Python objects instead of tensors. For (1), please define your @tf.function outside of the loop. For (2), @tf.function has experimental_relax_shapes=True option that relaxes argument shapes that can avoid unnecessary retracing. For (3), please refer to https://www.tensorflow.org/guide/function#controlling_retracing and https://www.tensorflow.org/api_docs/python/tf/function for  more details.\n"
          ]
        },
        {
          "output_type": "stream",
          "name": "stderr",
          "text": [
            "WARNING:tensorflow:5 out of the last 8 calls to <function Model.make_predict_function.<locals>.predict_function at 0x7fba802b4560> triggered tf.function retracing. Tracing is expensive and the excessive number of tracings could be due to (1) creating @tf.function repeatedly in a loop, (2) passing tensors with different shapes, (3) passing Python objects instead of tensors. For (1), please define your @tf.function outside of the loop. For (2), @tf.function has experimental_relax_shapes=True option that relaxes argument shapes that can avoid unnecessary retracing. For (3), please refer to https://www.tensorflow.org/guide/function#controlling_retracing and https://www.tensorflow.org/api_docs/python/tf/function for  more details.\n"
          ]
        },
        {
          "output_type": "stream",
          "name": "stdout",
          "text": [
            "positive example prediction:  [[27.037088]]\n",
            "negative example prediction:  [[-25.587976]]\n"
          ]
        }
      ]
    },
    {
      "cell_type": "markdown",
      "source": [
        "As we can see the model correctly predicted that the first example review had a positive sentiment, while the second a negative one."
      ],
      "metadata": {
        "id": "Vf9u1w07444q"
      }
    },
    {
      "cell_type": "code",
      "source": [
        "output_loc = 'results/model_2'\n",
        "model.save(output_loc)"
      ],
      "metadata": {
        "colab": {
          "base_uri": "https://localhost:8080/"
        },
        "id": "fIMLpFoE9i3V",
        "outputId": "813da774-5c05-40a5-8cfc-6e2065d448d3"
      },
      "execution_count": 126,
      "outputs": [
        {
          "output_type": "stream",
          "name": "stderr",
          "text": [
            "WARNING:absl:Found untraced functions such as lstm_cell_19_layer_call_fn, lstm_cell_19_layer_call_and_return_conditional_losses, lstm_cell_20_layer_call_fn, lstm_cell_20_layer_call_and_return_conditional_losses while saving (showing 4 of 4). These functions will not be directly callable after loading.\n"
          ]
        },
        {
          "output_type": "stream",
          "name": "stdout",
          "text": [
            "INFO:tensorflow:Assets written to: results/model_2/assets\n"
          ]
        },
        {
          "output_type": "stream",
          "name": "stderr",
          "text": [
            "INFO:tensorflow:Assets written to: results/model_2/assets\n",
            "WARNING:absl:<keras.layers.recurrent.LSTMCell object at 0x7fba7f09fa50> has the same name 'LSTMCell' as a built-in Keras object. Consider renaming <class 'keras.layers.recurrent.LSTMCell'> to avoid naming conflicts when loading with `tf.keras.models.load_model`. If renaming is not possible, pass the object in the `custom_objects` parameter of the load function.\n",
            "WARNING:absl:<keras.layers.recurrent.LSTMCell object at 0x7fba7f0b1790> has the same name 'LSTMCell' as a built-in Keras object. Consider renaming <class 'keras.layers.recurrent.LSTMCell'> to avoid naming conflicts when loading with `tf.keras.models.load_model`. If renaming is not possible, pass the object in the `custom_objects` parameter of the load function.\n"
          ]
        }
      ]
    },
    {
      "cell_type": "markdown",
      "source": [
        "Tuning the model setting the hyperparameters:\n",
        "\n",
        "* **Batch size**: controls the accuracy of the estimate of the error gradient. Neural networks are trained using gradient descent in which the estimated error used to update the weights is computed based on a subset of the training set. The larger this subset, the more accurate the estimation, the weights are adjusted in a way to improve the performance. It is usually chosen between 1 and 100, default (good) value is 32.\n",
        "\n",
        "Also, note that the smaller the batch size the more iterations are performed per epoch. \n",
        "\n",
        "* **Epochs**: \n",
        "\n",
        "For the epoch, the number of iterations times the batch size gives the number of data points. When using multiple epochs the data is fed to the neural network multiple times.\n",
        "\n",
        "> **Early stopping**:\n",
        "\n",
        ">  We expect the model to become better and better after each epoch (accuracy increases, loss descreases) until convergence. However, after reaching convergence, we would like to stop before the accuracy would start to decrease and in contrast the generalization error would increase. In order to determine the change in the generalization error (loss) the model is evaluated in the validation set after each epoch.\n",
        "\n",
        ">  With early stopping, we set the initial number of epoch very high, but when the training is complete, we check the learning curves to make sure the model is not overfitting."
      ],
      "metadata": {
        "id": "UZO3cKVFaQfX"
      }
    },
    {
      "cell_type": "markdown",
      "source": [
        "**LSTM** (Long Short Term Memory) networks: special kind of RNNs, capable of remembering information for long periods of time. \n",
        "It is also capable of adding or rmeoving information to the cell state.\n",
        "\n",
        "Contains several gates which control the information flow to the cell:\n",
        "1. step: \"forget\" gate = decide what information to throw away from the current cell state\n",
        "2. step: \"input\" gate = replace the old state with the updated (relevant) new state \n",
        "3. step: \"output\" gate = decide what to output using a sigmoid function\n",
        "\n",
        "ex. When predicting the next word, the cell state include the gender of the current subject, but when we detect a new subject, we would like to discard the previous gender information (no longer valid for the current state), and add the new gender.\n",
        "\n",
        "\n",
        "\n",
        "**GRU** (Gated Recurrent Unit): replaces the forget and input gates with one \"update\" gate. It only forgets when it replaces the old information with a new one."
      ],
      "metadata": {
        "id": "ZEzn3vhskcO9"
      }
    },
    {
      "cell_type": "markdown",
      "source": [
        "**Stacked LSTM** layers:\n",
        "\n",
        ">Stacking several LSTM layers allows greater model complexity, for example it can be used to create a hierarchical feature representation of the input data. Stacking up 2 Bidirectional LSTM networks can improve the prediction, because\n",
        "the first layer finds the most important features, and thus helps the second layer to provide more accurate results. Using 2 stacked Bi-LSTM helps to achieve better results than with a single model. Also, it generalizes the model allowing it to be used in a more general context."
      ],
      "metadata": {
        "id": "1O3lg7o2nfNT"
      }
    },
    {
      "cell_type": "markdown",
      "source": [
        "Create a general function for creating and evaluating the models. It combines all the previous steps including the addition of the custom preprocessing/standardization layer for cleaning the data and training and then evaluating the built model:"
      ],
      "metadata": {
        "id": "G2bf_7Fy9HgX"
      }
    },
    {
      "cell_type": "code",
      "source": [
        "def prediction_with_RNN(raw_data, embedding_out_dim, layers, model_name, batch_size, epochs):\n",
        "    # Prepare and split the dataset\n",
        "    train_data = raw_data.sample(frac=0.8, replace=True, random_state=1)\n",
        "    test_data = raw_data.drop(train_data.index)\n",
        "\n",
        "    tf_train = wrap_tf_dataset(train_data)\n",
        "    tf_test = wrap_tf_dataset(test_data)\n",
        "\n",
        "    # get the size of the vocabulary\n",
        "    vocab_size = raw_data.shape[0]\n",
        "\n",
        "    # create and apply the encoder on the train dataset\n",
        "    encoder = text_vectorization_layer(tf_train, vocab_size, max_sequence_length)\n",
        "\n",
        "    # build the model\n",
        "    model = tf.keras.Sequential([\n",
        "            # add the encoder layer to the model\n",
        "            encoder,\n",
        "            # add an embedding layer as well\n",
        "            tf.keras.layers.Embedding(\n",
        "                input_dim = vocab_size,\n",
        "                output_dim = embedding_out_dim,\n",
        "                # Use masking to handle the variable sequence lengths\n",
        "                mask_zero=True)])\n",
        "    # add the rest of the layers\n",
        "    for layer in layers:\n",
        "      model.add(layer)\n",
        "\n",
        "    # display the structure of the final model\n",
        "    print(model.summary())\n",
        "\n",
        "    # configure and compile the model\n",
        "    model.compile(loss=tf.keras.losses.BinaryCrossentropy(from_logits=True),\n",
        "                  optimizer=tf.keras.optimizers.Adam(1e-4),\n",
        "                  metrics=['accuracy'])\n",
        "    \n",
        "    # train the model\n",
        "    history = model.fit(tf_train, \n",
        "                    batch_size=batch_size,\n",
        "                    epochs=epochs,\n",
        "                    validation_data=tf_test)\n",
        "\n",
        "    # evaluate the model\n",
        "    test_loss, test_acc = model.evaluate(tf_test)\n",
        "    print('Test Loss:', test_loss)\n",
        "    print('Test Accuracy:', test_acc)\n",
        "\n",
        "    # plot graphs\n",
        "    plot_epochs(history)\n",
        "\n",
        "    # save the model\n",
        "    output_loc = 'results/'+model_name\n",
        "    model.save(output_loc)"
      ],
      "metadata": {
        "id": "CWUDAd7V9H4B"
      },
      "execution_count": 138,
      "outputs": []
    },
    {
      "cell_type": "markdown",
      "source": [
        "### Model 1:\n",
        "The additional layers added to the model (apart from the default preprocessing and embedding layers):\n",
        "* one Bidirectional LSTM with 64 neuron cells\n",
        "* 2 Dense layers with ReLU activation functions:\n",
        "   - one with 64 cells\n",
        "   - one with 1 cell for computing the result of the prediction\n",
        "\n",
        "The model is trained on a batch size of 32 and for 30 epochs."
      ],
      "metadata": {
        "id": "ypy7_wmGrc8y"
      }
    },
    {
      "cell_type": "code",
      "source": [
        "layers = [\n",
        "    tf.keras.layers.Bidirectional(tf.keras.layers.LSTM(64)),\n",
        "    tf.keras.layers.Dense(64, activation='relu'),\n",
        "    tf.keras.layers.Dense(1)\n",
        "]\n",
        "\n",
        "prediction_with_RNN(raw_data, embedding_out_dim=64, layers=layers, model_name=\"model_1\", batch_size=32,epochs=30)"
      ],
      "metadata": {
        "colab": {
          "base_uri": "https://localhost:8080/",
          "height": 1000
        },
        "id": "3cWeDOjpA5Kx",
        "outputId": "a6b056cb-0752-4ea6-9cae-c072927d72fa"
      },
      "execution_count": 132,
      "outputs": [
        {
          "output_type": "stream",
          "name": "stdout",
          "text": [
            "Epoch 1/30\n",
            "16/16 [==============================] - 14s 235ms/step - loss: 0.6937 - accuracy: 0.4990 - val_loss: 0.6929 - val_accuracy: 0.4990\n",
            "Epoch 2/30\n",
            "16/16 [==============================] - 1s 40ms/step - loss: 0.6926 - accuracy: 0.4990 - val_loss: 0.6922 - val_accuracy: 0.4990\n",
            "Epoch 3/30\n",
            "16/16 [==============================] - 1s 40ms/step - loss: 0.6919 - accuracy: 0.4990 - val_loss: 0.6914 - val_accuracy: 0.4990\n",
            "Epoch 4/30\n",
            "16/16 [==============================] - 1s 43ms/step - loss: 0.6911 - accuracy: 0.4990 - val_loss: 0.6904 - val_accuracy: 0.4990\n",
            "Epoch 5/30\n",
            "16/16 [==============================] - 1s 42ms/step - loss: 0.6899 - accuracy: 0.4990 - val_loss: 0.6890 - val_accuracy: 0.4990\n",
            "Epoch 6/30\n",
            "16/16 [==============================] - 1s 39ms/step - loss: 0.6883 - accuracy: 0.4990 - val_loss: 0.6870 - val_accuracy: 0.4990\n",
            "Epoch 7/30\n",
            "16/16 [==============================] - 1s 38ms/step - loss: 0.6859 - accuracy: 0.4990 - val_loss: 0.6839 - val_accuracy: 0.4990\n",
            "Epoch 8/30\n",
            "16/16 [==============================] - 1s 38ms/step - loss: 0.6821 - accuracy: 0.4990 - val_loss: 0.6792 - val_accuracy: 0.4990\n",
            "Epoch 9/30\n",
            "16/16 [==============================] - 1s 40ms/step - loss: 0.6765 - accuracy: 0.4990 - val_loss: 0.6720 - val_accuracy: 0.4990\n",
            "Epoch 10/30\n",
            "16/16 [==============================] - 1s 40ms/step - loss: 0.6679 - accuracy: 0.4990 - val_loss: 0.6613 - val_accuracy: 0.4990\n",
            "Epoch 11/30\n",
            "16/16 [==============================] - 1s 39ms/step - loss: 0.6550 - accuracy: 0.4990 - val_loss: 0.6454 - val_accuracy: 0.4990\n",
            "Epoch 12/30\n",
            "16/16 [==============================] - 1s 40ms/step - loss: 0.6362 - accuracy: 0.4990 - val_loss: 0.6222 - val_accuracy: 0.4990\n",
            "Epoch 13/30\n",
            "16/16 [==============================] - 1s 42ms/step - loss: 0.6089 - accuracy: 0.5010 - val_loss: 0.5889 - val_accuracy: 0.5110\n",
            "Epoch 14/30\n",
            "16/16 [==============================] - 1s 42ms/step - loss: 0.5703 - accuracy: 0.5341 - val_loss: 0.5429 - val_accuracy: 0.5843\n",
            "Epoch 15/30\n",
            "16/16 [==============================] - 1s 41ms/step - loss: 0.5183 - accuracy: 0.6426 - val_loss: 0.4830 - val_accuracy: 0.7189\n",
            "Epoch 16/30\n",
            "16/16 [==============================] - 1s 40ms/step - loss: 0.4538 - accuracy: 0.7671 - val_loss: 0.4131 - val_accuracy: 0.8303\n",
            "Epoch 17/30\n",
            "16/16 [==============================] - 1s 42ms/step - loss: 0.3839 - accuracy: 0.8564 - val_loss: 0.3440 - val_accuracy: 0.8946\n",
            "Epoch 18/30\n",
            "16/16 [==============================] - 1s 39ms/step - loss: 0.3200 - accuracy: 0.9016 - val_loss: 0.2872 - val_accuracy: 0.9167\n",
            "Epoch 19/30\n",
            "16/16 [==============================] - 1s 43ms/step - loss: 0.2702 - accuracy: 0.9197 - val_loss: 0.2451 - val_accuracy: 0.9337\n",
            "Epoch 20/30\n",
            "16/16 [==============================] - 1s 39ms/step - loss: 0.2330 - accuracy: 0.9398 - val_loss: 0.2133 - val_accuracy: 0.9438\n",
            "Epoch 21/30\n",
            "16/16 [==============================] - 1s 39ms/step - loss: 0.2038 - accuracy: 0.9468 - val_loss: 0.1878 - val_accuracy: 0.9528\n",
            "Epoch 22/30\n",
            "16/16 [==============================] - 1s 40ms/step - loss: 0.1799 - accuracy: 0.9548 - val_loss: 0.1667 - val_accuracy: 0.9578\n",
            "Epoch 23/30\n",
            "16/16 [==============================] - 1s 42ms/step - loss: 0.1602 - accuracy: 0.9588 - val_loss: 0.1487 - val_accuracy: 0.9598\n",
            "Epoch 24/30\n",
            "16/16 [==============================] - 1s 44ms/step - loss: 0.1432 - accuracy: 0.9608 - val_loss: 0.1332 - val_accuracy: 0.9639\n",
            "Epoch 25/30\n",
            "16/16 [==============================] - 1s 39ms/step - loss: 0.1286 - accuracy: 0.9639 - val_loss: 0.1207 - val_accuracy: 0.9689\n",
            "Epoch 26/30\n",
            "16/16 [==============================] - 1s 40ms/step - loss: 0.1170 - accuracy: 0.9689 - val_loss: 0.1103 - val_accuracy: 0.9709\n",
            "Epoch 27/30\n",
            "16/16 [==============================] - 1s 39ms/step - loss: 0.1072 - accuracy: 0.9729 - val_loss: 0.1011 - val_accuracy: 0.9739\n",
            "Epoch 28/30\n",
            "16/16 [==============================] - 1s 40ms/step - loss: 0.0984 - accuracy: 0.9739 - val_loss: 0.0926 - val_accuracy: 0.9789\n",
            "Epoch 29/30\n",
            "16/16 [==============================] - 1s 39ms/step - loss: 0.0902 - accuracy: 0.9799 - val_loss: 0.0849 - val_accuracy: 0.9809\n",
            "Epoch 30/30\n",
            "16/16 [==============================] - 1s 42ms/step - loss: 0.0827 - accuracy: 0.9829 - val_loss: 0.0783 - val_accuracy: 0.9839\n",
            "16/16 [==============================] - 0s 12ms/step - loss: 0.0783 - accuracy: 0.9839\n",
            "Test Loss: 0.0783078521490097\n",
            "Test Accuracy: 0.9839357137680054\n"
          ]
        },
        {
          "output_type": "display_data",
          "data": {
            "text/plain": [
              "<Figure size 576x360 with 1 Axes>"
            ],
            "image/png": "[encoded data removed]"
          },
          "metadata": {
            "needs_background": "light"
          }
        },
        {
          "output_type": "stream",
          "name": "stderr",
          "text": [
            "WARNING:absl:Found untraced functions such as lstm_cell_25_layer_call_fn, lstm_cell_25_layer_call_and_return_conditional_losses, lstm_cell_26_layer_call_fn, lstm_cell_26_layer_call_and_return_conditional_losses while saving (showing 4 of 4). These functions will not be directly callable after loading.\n"
          ]
        },
        {
          "output_type": "stream",
          "name": "stdout",
          "text": [
            "INFO:tensorflow:Assets written to: results/model_2_s/assets\n"
          ]
        },
        {
          "output_type": "stream",
          "name": "stderr",
          "text": [
            "INFO:tensorflow:Assets written to: results/model_2_s/assets\n",
            "WARNING:absl:<keras.layers.recurrent.LSTMCell object at 0x7fba84b6ba10> has the same name 'LSTMCell' as a built-in Keras object. Consider renaming <class 'keras.layers.recurrent.LSTMCell'> to avoid naming conflicts when loading with `tf.keras.models.load_model`. If renaming is not possible, pass the object in the `custom_objects` parameter of the load function.\n",
            "WARNING:absl:<keras.layers.recurrent.LSTMCell object at 0x7fba84b7ac10> has the same name 'LSTMCell' as a built-in Keras object. Consider renaming <class 'keras.layers.recurrent.LSTMCell'> to avoid naming conflicts when loading with `tf.keras.models.load_model`. If renaming is not possible, pass the object in the `custom_objects` parameter of the load function.\n"
          ]
        }
      ]
    },
    {
      "cell_type": "markdown",
      "source": [
        "The achieved accuracy is above 98%, which shows a very promising result, even though we only applied one Bidirectional LSTM layer."
      ],
      "metadata": {
        "id": "IqtblXNHsY43"
      }
    },
    {
      "cell_type": "markdown",
      "source": [
        "### Model 2:\n",
        "\n",
        "In this case another Bidirectional LSTM is added to create a stacked layer in order to improve the prediction:\n",
        "* First Bi-LSTM with 64 neurons\n",
        "* Second Bi-LSTM with only 16 neurons\n",
        "Followed by 1 hidden and 1 output layers for better classification:\n",
        "* First Dense layer with 16 neurons\n",
        "* Second Dense layer with 1 neuron for predicting a binary output using a sigmoid function\n",
        "Additionally, we have included a Dropout layer after the first dense layer to prevent overfitting, by discarding the inputs having a frequency equal to the given rate. \n",
        "\n",
        "The model is trained on a batch of size 32 and first for 30 epochs, with a dropout rate of 0.5."
      ],
      "metadata": {
        "id": "c2eg-7O-nB29"
      }
    },
    {
      "cell_type": "code",
      "source": [
        "layers = [\n",
        "    tf.keras.layers.Bidirectional(tf.keras.layers.LSTM(64,  return_sequences=True)),\n",
        "    tf.keras.layers.Bidirectional(tf.keras.layers.LSTM(32)),\n",
        "    tf.keras.layers.Dense(16, activation='relu'),\n",
        "    tf.keras.layers.Dropout(0.5),\n",
        "    tf.keras.layers.Dense(1)\n",
        "]\n",
        "prediction_with_RNN(raw_data, embedding_out_dim=64, layers=layers, model_name=\"model_2\", batch_size=32,epochs=30)"
      ],
      "metadata": {
        "colab": {
          "base_uri": "https://localhost:8080/",
          "height": 1000
        },
        "id": "3hVGDoBqs71V",
        "outputId": "0a1c9b6f-2b31-4ef3-8c90-0e56629e5647"
      },
      "execution_count": 137,
      "outputs": [
        {
          "output_type": "stream",
          "name": "stdout",
          "text": [
            "<bound method Model.summary of <keras.engine.sequential.Sequential object at 0x7fba81a91b10>>\n",
            "Epoch 1/30\n",
            "16/16 [==============================] - 27s 478ms/step - loss: 0.6932 - accuracy: 0.4990 - val_loss: 0.6929 - val_accuracy: 0.4990\n",
            "Epoch 2/30\n",
            "16/16 [==============================] - 1s 63ms/step - loss: 0.6927 - accuracy: 0.4990 - val_loss: 0.6924 - val_accuracy: 0.4990\n",
            "Epoch 3/30\n",
            "16/16 [==============================] - 1s 64ms/step - loss: 0.6923 - accuracy: 0.4990 - val_loss: 0.6919 - val_accuracy: 0.4990\n",
            "Epoch 4/30\n",
            "16/16 [==============================] - 1s 63ms/step - loss: 0.6915 - accuracy: 0.4990 - val_loss: 0.6910 - val_accuracy: 0.4990\n",
            "Epoch 5/30\n",
            "16/16 [==============================] - 1s 63ms/step - loss: 0.6905 - accuracy: 0.4990 - val_loss: 0.6898 - val_accuracy: 0.4990\n",
            "Epoch 6/30\n",
            "16/16 [==============================] - 1s 66ms/step - loss: 0.6891 - accuracy: 0.4990 - val_loss: 0.6881 - val_accuracy: 0.4990\n",
            "Epoch 7/30\n",
            "16/16 [==============================] - 1s 65ms/step - loss: 0.6871 - accuracy: 0.4990 - val_loss: 0.6855 - val_accuracy: 0.4990\n",
            "Epoch 8/30\n",
            "16/16 [==============================] - 1s 65ms/step - loss: 0.6842 - accuracy: 0.4990 - val_loss: 0.6815 - val_accuracy: 0.4990\n",
            "Epoch 9/30\n",
            "16/16 [==============================] - 1s 65ms/step - loss: 0.6784 - accuracy: 0.4990 - val_loss: 0.6754 - val_accuracy: 0.4990\n",
            "Epoch 10/30\n",
            "16/16 [==============================] - 1s 64ms/step - loss: 0.6726 - accuracy: 0.4990 - val_loss: 0.6661 - val_accuracy: 0.4990\n",
            "Epoch 11/30\n",
            "16/16 [==============================] - 1s 65ms/step - loss: 0.6603 - accuracy: 0.4990 - val_loss: 0.6520 - val_accuracy: 0.4990\n",
            "Epoch 12/30\n",
            "16/16 [==============================] - 1s 62ms/step - loss: 0.6431 - accuracy: 0.4990 - val_loss: 0.6299 - val_accuracy: 0.4990\n",
            "Epoch 13/30\n",
            "16/16 [==============================] - 1s 61ms/step - loss: 0.6186 - accuracy: 0.5060 - val_loss: 0.5964 - val_accuracy: 0.5030\n",
            "Epoch 14/30\n",
            "16/16 [==============================] - 1s 61ms/step - loss: 0.5860 - accuracy: 0.5161 - val_loss: 0.5493 - val_accuracy: 0.5301\n",
            "Epoch 15/30\n",
            "16/16 [==============================] - 1s 64ms/step - loss: 0.5378 - accuracy: 0.5884 - val_loss: 0.4893 - val_accuracy: 0.6406\n",
            "Epoch 16/30\n",
            "16/16 [==============================] - 1s 61ms/step - loss: 0.4800 - accuracy: 0.6727 - val_loss: 0.4223 - val_accuracy: 0.7500\n",
            "Epoch 17/30\n",
            "16/16 [==============================] - 1s 60ms/step - loss: 0.4216 - accuracy: 0.7500 - val_loss: 0.3585 - val_accuracy: 0.8143\n",
            "Epoch 18/30\n",
            "16/16 [==============================] - 1s 60ms/step - loss: 0.3730 - accuracy: 0.8092 - val_loss: 0.3074 - val_accuracy: 0.8725\n",
            "Epoch 19/30\n",
            "16/16 [==============================] - 1s 65ms/step - loss: 0.3232 - accuracy: 0.8554 - val_loss: 0.2649 - val_accuracy: 0.9006\n",
            "Epoch 20/30\n",
            "16/16 [==============================] - 1s 62ms/step - loss: 0.3018 - accuracy: 0.8876 - val_loss: 0.2314 - val_accuracy: 0.9277\n",
            "Epoch 21/30\n",
            "16/16 [==============================] - 1s 65ms/step - loss: 0.2572 - accuracy: 0.9076 - val_loss: 0.2042 - val_accuracy: 0.9428\n",
            "Epoch 22/30\n",
            "16/16 [==============================] - 1s 66ms/step - loss: 0.2317 - accuracy: 0.9177 - val_loss: 0.1821 - val_accuracy: 0.9478\n",
            "Epoch 23/30\n",
            "16/16 [==============================] - 1s 65ms/step - loss: 0.2285 - accuracy: 0.9327 - val_loss: 0.1647 - val_accuracy: 0.9578\n",
            "Epoch 24/30\n",
            "16/16 [==============================] - 1s 68ms/step - loss: 0.1951 - accuracy: 0.9428 - val_loss: 0.1495 - val_accuracy: 0.9639\n",
            "Epoch 25/30\n",
            "16/16 [==============================] - 1s 63ms/step - loss: 0.1835 - accuracy: 0.9458 - val_loss: 0.1337 - val_accuracy: 0.9709\n",
            "Epoch 26/30\n",
            "16/16 [==============================] - 1s 60ms/step - loss: 0.1691 - accuracy: 0.9608 - val_loss: 0.1210 - val_accuracy: 0.9729\n",
            "Epoch 27/30\n",
            "16/16 [==============================] - 1s 60ms/step - loss: 0.1569 - accuracy: 0.9608 - val_loss: 0.1097 - val_accuracy: 0.9749\n",
            "Epoch 28/30\n",
            "16/16 [==============================] - 1s 64ms/step - loss: 0.1488 - accuracy: 0.9598 - val_loss: 0.1008 - val_accuracy: 0.9779\n",
            "Epoch 29/30\n",
            "16/16 [==============================] - 1s 65ms/step - loss: 0.1382 - accuracy: 0.9669 - val_loss: 0.0930 - val_accuracy: 0.9799\n",
            "Epoch 30/30\n",
            "16/16 [==============================] - 1s 61ms/step - loss: 0.1266 - accuracy: 0.9679 - val_loss: 0.0864 - val_accuracy: 0.9799\n",
            "16/16 [==============================] - 0s 18ms/step - loss: 0.0864 - accuracy: 0.9799\n",
            "Test Loss: 0.08644716441631317\n",
            "Test Accuracy: 0.9799196720123291\n"
          ]
        },
        {
          "output_type": "display_data",
          "data": {
            "text/plain": [
              "<Figure size 576x360 with 1 Axes>"
            ],
            "image/png": "[encoded data removed]"
          },
          "metadata": {
            "needs_background": "light"
          }
        },
        {
          "output_type": "stream",
          "name": "stderr",
          "text": [
            "WARNING:absl:Found untraced functions such as lstm_cell_43_layer_call_fn, lstm_cell_43_layer_call_and_return_conditional_losses, lstm_cell_44_layer_call_fn, lstm_cell_44_layer_call_and_return_conditional_losses, lstm_cell_46_layer_call_fn while saving (showing 5 of 8). These functions will not be directly callable after loading.\n"
          ]
        },
        {
          "output_type": "stream",
          "name": "stdout",
          "text": [
            "INFO:tensorflow:Assets written to: results/model_2/assets\n"
          ]
        },
        {
          "output_type": "stream",
          "name": "stderr",
          "text": [
            "INFO:tensorflow:Assets written to: results/model_2/assets\n",
            "WARNING:absl:<keras.layers.recurrent.LSTMCell object at 0x7fba80343050> has the same name 'LSTMCell' as a built-in Keras object. Consider renaming <class 'keras.layers.recurrent.LSTMCell'> to avoid naming conflicts when loading with `tf.keras.models.load_model`. If renaming is not possible, pass the object in the `custom_objects` parameter of the load function.\n",
            "WARNING:absl:<keras.layers.recurrent.LSTMCell object at 0x7fba7f180550> has the same name 'LSTMCell' as a built-in Keras object. Consider renaming <class 'keras.layers.recurrent.LSTMCell'> to avoid naming conflicts when loading with `tf.keras.models.load_model`. If renaming is not possible, pass the object in the `custom_objects` parameter of the load function.\n",
            "WARNING:absl:<keras.layers.recurrent.LSTMCell object at 0x7fba80346750> has the same name 'LSTMCell' as a built-in Keras object. Consider renaming <class 'keras.layers.recurrent.LSTMCell'> to avoid naming conflicts when loading with `tf.keras.models.load_model`. If renaming is not possible, pass the object in the `custom_objects` parameter of the load function.\n",
            "WARNING:absl:<keras.layers.recurrent.LSTMCell object at 0x7fba841738d0> has the same name 'LSTMCell' as a built-in Keras object. Consider renaming <class 'keras.layers.recurrent.LSTMCell'> to avoid naming conflicts when loading with `tf.keras.models.load_model`. If renaming is not possible, pass the object in the `custom_objects` parameter of the load function.\n"
          ]
        }
      ]
    },
    {
      "cell_type": "markdown",
      "source": [
        "Surprisingly the accuracy appears to be slightly less in this case then with the previous model."
      ],
      "metadata": {
        "id": "vDM48sXGwRMM"
      }
    },
    {
      "cell_type": "markdown",
      "source": [
        "## Experiment with different models and training parameters:"
      ],
      "metadata": {
        "id": "0bK2OU6Q1tKc"
      }
    },
    {
      "cell_type": "markdown",
      "source": [
        "Define helper functions for building and evaluating different models in a more efficient way:"
      ],
      "metadata": {
        "id": "RfU618pZ1jIw"
      }
    },
    {
      "cell_type": "code",
      "source": [
        "def preprocess_data(raw_data):\n",
        "    # Prepare and split the dataset\n",
        "    train_data = raw_data.sample(frac=0.8, replace=True, random_state=1)\n",
        "    test_data = raw_data.drop(train_data.index)\n",
        "\n",
        "    tf_train = wrap_tf_dataset(train_data)\n",
        "    tf_test = wrap_tf_dataset(test_data)\n",
        "\n",
        "    return tf_train, tf_test"
      ],
      "metadata": {
        "id": "UHWGrYbR6CYO"
      },
      "execution_count": 145,
      "outputs": []
    },
    {
      "cell_type": "code",
      "source": [
        "def build_model(tf_train, tf_test, vocab_size, embedding_out_dim, layers):\n",
        "    # create and apply the encoder on the train dataset\n",
        "    encoder = text_vectorization_layer(tf_train, vocab_size, max_sequence_length)\n",
        "\n",
        "    # build the model\n",
        "    model = tf.keras.Sequential([\n",
        "            # add the encoder layer to the model\n",
        "            encoder,\n",
        "            # add an embedding layer as well\n",
        "            tf.keras.layers.Embedding(\n",
        "                input_dim = vocab_size,\n",
        "                output_dim = embedding_out_dim,\n",
        "                # Use masking to handle the variable sequence lengths\n",
        "                mask_zero=True)])\n",
        "    # add the rest of the layers\n",
        "    for layer in layers:\n",
        "      model.add(layer)\n",
        "\n",
        "    # display the structure of the final model\n",
        "    print(model.summary())\n",
        "\n",
        "    return model"
      ],
      "metadata": {
        "id": "bw2eJd0O0tAI"
      },
      "execution_count": 146,
      "outputs": []
    },
    {
      "cell_type": "code",
      "source": [
        "def evaluate_and_save_model(model, model_name):\n",
        "    # evaluate the model\n",
        "    test_loss, test_acc = model.evaluate(tf_test)\n",
        "    print('Test Loss:', test_loss)\n",
        "    print('Test Accuracy:', test_acc)\n",
        "\n",
        "    # plot graphs\n",
        "    print(\"Plot the accuracy w.r.t epochs\")\n",
        "    plot_graphs(history, 'accuracy')\n",
        "    \n",
        "    print(\"Plot the loss w.r.t epochs\")\n",
        "    plot_graphs(history, 'loss')\n",
        "\n",
        "    # save the model\n",
        "    output_loc = 'results/'+model_name\n",
        "    model.save(output_loc)\n",
        "\n",
        "    return history"
      ],
      "metadata": {
        "id": "Y74a1JGe0vqC"
      },
      "execution_count": 151,
      "outputs": []
    },
    {
      "cell_type": "markdown",
      "source": [
        "### Generalized model:\n",
        "In this case we add 1D convolution layer to filter the intermediate results and provide better generalization."
      ],
      "metadata": {
        "id": "eylC9NRXxZtK"
      }
    },
    {
      "cell_type": "code",
      "source": [
        "# get the size of the vocabulary\n",
        "vocab_size = raw_data.shape[0]\n",
        "\n",
        "# preprocess the data\n",
        "tf_train, tf_test = preprocess_data(raw_data)\n",
        "\n",
        "layers = [\n",
        "    tf.keras.layers.Conv1D(32, (1), activation='relu'),\n",
        "    tf.keras.layers.Dropout(0.5),\n",
        "    tf.keras.layers.Bidirectional(tf.keras.layers.LSTM(32,  return_sequences=True)),\n",
        "    tf.keras.layers.Dense(32, activation='relu'),\n",
        "    tf.keras.layers.Dense(1)\n",
        "]\n",
        "\n",
        "model = build_model(tf_train, tf_test, vocab_size, 32, layers)\n",
        "\n",
        "# loss function for binary classification\n",
        "loss = tf.keras.losses.BinaryCrossentropy()\n",
        "# Adam optimizer based on SGD algorithm\n",
        "optimizer = tf.keras.optimizers.Adam(1e-4)\n",
        "# the metrics for evaluating the performance of a binary classifier can be the Accuracy\n",
        "metric = 'accuracy'\n",
        "\n",
        "# configure and compile the model\n",
        "model.compile(loss=loss,\n",
        "                  optimizer=optimizer,\n",
        "                  metrics=[metric])\n",
        "\n",
        "# early stopping callback based on monitoring the increase in the validation loss\n",
        "early_stop = tf.keras.callbacks.EarlyStopping(monitor='val_loss', patience=3)\n",
        "\n",
        "# train the model\n",
        "history = model.fit(tf_train, \n",
        "                    batch_size=32,\n",
        "                    epochs=30,\n",
        "                    validation_data=tf_test,\n",
        "                    callbacks=early_stop)\n",
        "\n",
        "# evaluate the model\n",
        "evaluate_and_save_model(model, \"model_3\")"
      ],
      "metadata": {
        "colab": {
          "base_uri": "https://localhost:8080/",
          "height": 1000
        },
        "id": "fZtQkB_T2TCz",
        "outputId": "35eab920-a469-45a0-e405-499496b9ef98"
      },
      "execution_count": 150,
      "outputs": [
        {
          "output_type": "stream",
          "name": "stdout",
          "text": [
            "Model: \"sequential_15\"\n",
            "_________________________________________________________________\n",
            " Layer (type)                Output Shape              Param #   \n",
            "=================================================================\n",
            " text_vectorization_34 (Text  (None, 10)               0         \n",
            " Vectorization)                                                  \n",
            "                                                                 \n",
            " embedding_17 (Embedding)    (None, 10, 32)            31872     \n",
            "                                                                 \n",
            " conv1d_8 (Conv1D)           (None, 10, 32)            1056      \n",
            "                                                                 \n",
            " conv1d_9 (Conv1D)           (None, 10, 32)            1056      \n",
            "                                                                 \n",
            " dropout_5 (Dropout)         (None, 10, 32)            0         \n",
            "                                                                 \n",
            " bidirectional_20 (Bidirecti  (None, 10, 64)           16640     \n",
            " onal)                                                           \n",
            "                                                                 \n",
            " dense_36 (Dense)            (None, 10, 32)            2080      \n",
            "                                                                 \n",
            " dense_37 (Dense)            (None, 10, 1)             33        \n",
            "                                                                 \n",
            "=================================================================\n",
            "Total params: 52,737\n",
            "Trainable params: 52,737\n",
            "Non-trainable params: 0\n",
            "_________________________________________________________________\n",
            "None\n",
            "Epoch 1/60\n",
            "16/16 [==============================] - 8s 114ms/step - loss: 4.6329 - accuracy: 0.4990 - val_loss: 2.2619 - val_accuracy: 0.4990\n",
            "Epoch 2/60\n",
            "16/16 [==============================] - 1s 32ms/step - loss: 2.2159 - accuracy: 0.4990 - val_loss: 2.0410 - val_accuracy: 0.4990\n",
            "Epoch 3/60\n",
            "16/16 [==============================] - 0s 29ms/step - loss: 2.0489 - accuracy: 0.4990 - val_loss: 1.9664 - val_accuracy: 0.4990\n",
            "Epoch 4/60\n",
            "16/16 [==============================] - 0s 28ms/step - loss: 1.9762 - accuracy: 0.4990 - val_loss: 1.9127 - val_accuracy: 0.4990\n",
            "Epoch 5/60\n",
            "16/16 [==============================] - 0s 30ms/step - loss: 1.9174 - accuracy: 0.4990 - val_loss: 1.8621 - val_accuracy: 0.4990\n",
            "Epoch 6/60\n",
            "16/16 [==============================] - 1s 31ms/step - loss: 1.8693 - accuracy: 0.4990 - val_loss: 1.8126 - val_accuracy: 0.4990\n",
            "Epoch 7/60\n",
            "16/16 [==============================] - 0s 31ms/step - loss: 1.8187 - accuracy: 0.4990 - val_loss: 1.7648 - val_accuracy: 0.4990\n",
            "Epoch 8/60\n",
            "16/16 [==============================] - 0s 29ms/step - loss: 1.7670 - accuracy: 0.4990 - val_loss: 1.7205 - val_accuracy: 0.4990\n",
            "Epoch 9/60\n",
            "16/16 [==============================] - 1s 33ms/step - loss: 1.7270 - accuracy: 0.4990 - val_loss: 1.6800 - val_accuracy: 0.4990\n",
            "Epoch 10/60\n",
            "16/16 [==============================] - 0s 31ms/step - loss: 1.6857 - accuracy: 0.4990 - val_loss: 1.6427 - val_accuracy: 0.4990\n",
            "Epoch 11/60\n",
            "16/16 [==============================] - 1s 32ms/step - loss: 1.6486 - accuracy: 0.4990 - val_loss: 1.6082 - val_accuracy: 0.4990\n",
            "Epoch 12/60\n",
            "16/16 [==============================] - 0s 31ms/step - loss: 1.6122 - accuracy: 0.4990 - val_loss: 1.5758 - val_accuracy: 0.4990\n",
            "Epoch 13/60\n",
            "16/16 [==============================] - 1s 31ms/step - loss: 1.5789 - accuracy: 0.4990 - val_loss: 1.5452 - val_accuracy: 0.4990\n",
            "Epoch 14/60\n",
            "16/16 [==============================] - 0s 30ms/step - loss: 1.5475 - accuracy: 0.4990 - val_loss: 1.5160 - val_accuracy: 0.4990\n",
            "Epoch 15/60\n",
            "16/16 [==============================] - 1s 32ms/step - loss: 1.5195 - accuracy: 0.4990 - val_loss: 1.4879 - val_accuracy: 0.4990\n",
            "Epoch 16/60\n",
            "16/16 [==============================] - 0s 28ms/step - loss: 1.4941 - accuracy: 0.4990 - val_loss: 1.4607 - val_accuracy: 0.4990\n",
            "Epoch 17/60\n",
            "16/16 [==============================] - 0s 30ms/step - loss: 1.4650 - accuracy: 0.4990 - val_loss: 1.4343 - val_accuracy: 0.4990\n",
            "Epoch 18/60\n",
            "16/16 [==============================] - 1s 32ms/step - loss: 1.4359 - accuracy: 0.4990 - val_loss: 1.4082 - val_accuracy: 0.4990\n",
            "Epoch 19/60\n",
            "16/16 [==============================] - 0s 31ms/step - loss: 1.4117 - accuracy: 0.4990 - val_loss: 1.3825 - val_accuracy: 0.4990\n",
            "Epoch 20/60\n",
            "16/16 [==============================] - 0s 28ms/step - loss: 1.3844 - accuracy: 0.4990 - val_loss: 1.3572 - val_accuracy: 0.4990\n",
            "Epoch 21/60\n",
            "16/16 [==============================] - 0s 32ms/step - loss: 1.3576 - accuracy: 0.4990 - val_loss: 1.3309 - val_accuracy: 0.4990\n",
            "Epoch 22/60\n",
            "16/16 [==============================] - 1s 31ms/step - loss: 1.3301 - accuracy: 0.4990 - val_loss: 1.3038 - val_accuracy: 0.4990\n",
            "Epoch 23/60\n",
            "16/16 [==============================] - 1s 32ms/step - loss: 1.3024 - accuracy: 0.4990 - val_loss: 1.2770 - val_accuracy: 0.4990\n",
            "Epoch 24/60\n",
            "16/16 [==============================] - 0s 31ms/step - loss: 1.2765 - accuracy: 0.4990 - val_loss: 1.2505 - val_accuracy: 0.4990\n",
            "Epoch 25/60\n",
            "16/16 [==============================] - 1s 31ms/step - loss: 1.2501 - accuracy: 0.4990 - val_loss: 1.2238 - val_accuracy: 0.4990\n",
            "Epoch 26/60\n",
            "16/16 [==============================] - 0s 31ms/step - loss: 1.2232 - accuracy: 0.4990 - val_loss: 1.1971 - val_accuracy: 0.4990\n",
            "Epoch 27/60\n",
            "16/16 [==============================] - 0s 30ms/step - loss: 1.1958 - accuracy: 0.4990 - val_loss: 1.1705 - val_accuracy: 0.4990\n",
            "Epoch 28/60\n",
            "16/16 [==============================] - 1s 33ms/step - loss: 1.1695 - accuracy: 0.4990 - val_loss: 1.1439 - val_accuracy: 0.4990\n",
            "Epoch 29/60\n",
            "16/16 [==============================] - 0s 31ms/step - loss: 1.1410 - accuracy: 0.4990 - val_loss: 1.1174 - val_accuracy: 0.4990\n",
            "Epoch 30/60\n",
            "16/16 [==============================] - 1s 33ms/step - loss: 1.1151 - accuracy: 0.4990 - val_loss: 1.0908 - val_accuracy: 0.4990\n",
            "Epoch 31/60\n",
            "16/16 [==============================] - 0s 30ms/step - loss: 1.0869 - accuracy: 0.4990 - val_loss: 1.0641 - val_accuracy: 0.4990\n",
            "Epoch 32/60\n",
            "16/16 [==============================] - 0s 32ms/step - loss: 1.0610 - accuracy: 0.4990 - val_loss: 1.0379 - val_accuracy: 0.4990\n",
            "Epoch 33/60\n",
            "16/16 [==============================] - 1s 31ms/step - loss: 1.0337 - accuracy: 0.4990 - val_loss: 1.0122 - val_accuracy: 0.4990\n",
            "Epoch 34/60\n",
            "16/16 [==============================] - 0s 30ms/step - loss: 1.0073 - accuracy: 0.4990 - val_loss: 0.9872 - val_accuracy: 0.4990\n",
            "Epoch 35/60\n",
            "16/16 [==============================] - 1s 32ms/step - loss: 0.9832 - accuracy: 0.4990 - val_loss: 0.9629 - val_accuracy: 0.4990\n",
            "Epoch 36/60\n",
            "16/16 [==============================] - 1s 31ms/step - loss: 0.9588 - accuracy: 0.4990 - val_loss: 0.9394 - val_accuracy: 0.4990\n",
            "Epoch 37/60\n",
            "16/16 [==============================] - 1s 33ms/step - loss: 0.9393 - accuracy: 0.4990 - val_loss: 0.9168 - val_accuracy: 0.4990\n",
            "Epoch 38/60\n",
            "16/16 [==============================] - 0s 31ms/step - loss: 0.9148 - accuracy: 0.4990 - val_loss: 0.8953 - val_accuracy: 0.4990\n",
            "Epoch 39/60\n",
            "16/16 [==============================] - 1s 31ms/step - loss: 0.8932 - accuracy: 0.4990 - val_loss: 0.8748 - val_accuracy: 0.4990\n",
            "Epoch 40/60\n",
            "16/16 [==============================] - 1s 32ms/step - loss: 0.8739 - accuracy: 0.4990 - val_loss: 0.8549 - val_accuracy: 0.4990\n",
            "Epoch 41/60\n",
            "16/16 [==============================] - 0s 29ms/step - loss: 0.8536 - accuracy: 0.4990 - val_loss: 0.8358 - val_accuracy: 0.4990\n",
            "Epoch 42/60\n",
            "16/16 [==============================] - 1s 32ms/step - loss: 0.8341 - accuracy: 0.4990 - val_loss: 0.8181 - val_accuracy: 0.4990\n",
            "Epoch 43/60\n",
            "16/16 [==============================] - 0s 28ms/step - loss: 0.8212 - accuracy: 0.4990 - val_loss: 0.8020 - val_accuracy: 0.4990\n",
            "Epoch 44/60\n",
            "16/16 [==============================] - 0s 31ms/step - loss: 0.8058 - accuracy: 0.4990 - val_loss: 0.7874 - val_accuracy: 0.4990\n",
            "Epoch 45/60\n",
            "16/16 [==============================] - 0s 31ms/step - loss: 0.7921 - accuracy: 0.4991 - val_loss: 0.7745 - val_accuracy: 0.4990\n",
            "Epoch 46/60\n",
            "16/16 [==============================] - 1s 31ms/step - loss: 0.7800 - accuracy: 0.4981 - val_loss: 0.7632 - val_accuracy: 0.4990\n",
            "Epoch 47/60\n",
            "16/16 [==============================] - 0s 29ms/step - loss: 0.7664 - accuracy: 0.4992 - val_loss: 0.7537 - val_accuracy: 0.4990\n",
            "Epoch 48/60\n",
            "16/16 [==============================] - 0s 29ms/step - loss: 0.7579 - accuracy: 0.4995 - val_loss: 0.7455 - val_accuracy: 0.4992\n",
            "Epoch 49/60\n",
            "16/16 [==============================] - 0s 29ms/step - loss: 0.7501 - accuracy: 0.5018 - val_loss: 0.7389 - val_accuracy: 0.4993\n",
            "Epoch 50/60\n",
            "16/16 [==============================] - 0s 30ms/step - loss: 0.7450 - accuracy: 0.4999 - val_loss: 0.7334 - val_accuracy: 0.5013\n",
            "Epoch 51/60\n",
            "16/16 [==============================] - 1s 32ms/step - loss: 0.7429 - accuracy: 0.5013 - val_loss: 0.7290 - val_accuracy: 0.5027\n",
            "Epoch 52/60\n",
            "16/16 [==============================] - 1s 33ms/step - loss: 0.7367 - accuracy: 0.5015 - val_loss: 0.7254 - val_accuracy: 0.5050\n",
            "Epoch 53/60\n",
            "16/16 [==============================] - 1s 32ms/step - loss: 0.7351 - accuracy: 0.5000 - val_loss: 0.7225 - val_accuracy: 0.5068\n",
            "Epoch 54/60\n",
            "16/16 [==============================] - 0s 31ms/step - loss: 0.7316 - accuracy: 0.5043 - val_loss: 0.7202 - val_accuracy: 0.5079\n",
            "Epoch 55/60\n",
            "16/16 [==============================] - 1s 32ms/step - loss: 0.7280 - accuracy: 0.5051 - val_loss: 0.7183 - val_accuracy: 0.5096\n",
            "Epoch 56/60\n",
            "16/16 [==============================] - 1s 33ms/step - loss: 0.7295 - accuracy: 0.5009 - val_loss: 0.7166 - val_accuracy: 0.5095\n",
            "Epoch 57/60\n",
            "16/16 [==============================] - 1s 31ms/step - loss: 0.7252 - accuracy: 0.5058 - val_loss: 0.7151 - val_accuracy: 0.5109\n",
            "Epoch 58/60\n",
            "16/16 [==============================] - 0s 30ms/step - loss: 0.7220 - accuracy: 0.5094 - val_loss: 0.7137 - val_accuracy: 0.5115\n",
            "Epoch 59/60\n",
            "16/16 [==============================] - 0s 29ms/step - loss: 0.7246 - accuracy: 0.5028 - val_loss: 0.7124 - val_accuracy: 0.5122\n",
            "Epoch 60/60\n",
            "16/16 [==============================] - 1s 34ms/step - loss: 0.7205 - accuracy: 0.5082 - val_loss: 0.7112 - val_accuracy: 0.5129\n",
            "16/16 [==============================] - 0s 10ms/step - loss: 0.7112 - accuracy: 0.5129\n",
            "Test Loss: 0.7112311124801636\n",
            "Test Accuracy: 0.5129235982894897\n"
          ]
        },
        {
          "output_type": "display_data",
          "data": {
            "text/plain": [
              "<Figure size 576x360 with 1 Axes>"
            ],
            "image/png": "[encoded data removed]"
          },
          "metadata": {
            "needs_background": "light"
          }
        },
        {
          "output_type": "stream",
          "name": "stderr",
          "text": [
            "WARNING:absl:Found untraced functions such as lstm_cell_61_layer_call_fn, lstm_cell_61_layer_call_and_return_conditional_losses, lstm_cell_62_layer_call_fn, lstm_cell_62_layer_call_and_return_conditional_losses while saving (showing 4 of 4). These functions will not be directly callable after loading.\n"
          ]
        },
        {
          "output_type": "stream",
          "name": "stdout",
          "text": [
            "INFO:tensorflow:Assets written to: results/model_3/assets\n"
          ]
        },
        {
          "output_type": "stream",
          "name": "stderr",
          "text": [
            "INFO:tensorflow:Assets written to: results/model_3/assets\n",
            "WARNING:absl:<keras.layers.recurrent.LSTMCell object at 0x7fba8aa4bd50> has the same name 'LSTMCell' as a built-in Keras object. Consider renaming <class 'keras.layers.recurrent.LSTMCell'> to avoid naming conflicts when loading with `tf.keras.models.load_model`. If renaming is not possible, pass the object in the `custom_objects` parameter of the load function.\n",
            "WARNING:absl:<keras.layers.recurrent.LSTMCell object at 0x7fba898ab690> has the same name 'LSTMCell' as a built-in Keras object. Consider renaming <class 'keras.layers.recurrent.LSTMCell'> to avoid naming conflicts when loading with `tf.keras.models.load_model`. If renaming is not possible, pass the object in the `custom_objects` parameter of the load function.\n"
          ]
        },
        {
          "output_type": "execute_result",
          "data": {
            "text/plain": [
              "<keras.callbacks.History at 0x7fba8aa4c750>"
            ]
          },
          "metadata": {},
          "execution_count": 150
        }
      ]
    },
    {
      "cell_type": "code",
      "source": [
        "vocab_size = 1000\n",
        "max_sequence_length = 256\n",
        "\n",
        "model = Sequential()\n",
        "# add an embedding layer for \n",
        "model.add(Embedding(input_dim = vocab_size, output_dim = 64, input_length = max_sequence_length - 1))\n",
        "model.add(Conv1D(32, (1), padding='same', activation='relu'))\n",
        "model.add(Conv1D(32, (1), activation='relu'))\n",
        "model.add(Dropout(0.5)) \n",
        "\n",
        "model.add(Conv1D(64, (1), padding='same', activation='relu'))\n",
        "model.add(Conv1D(64, (1), activation='relu'))\n",
        "model.add(Dropout(0.5)) \n",
        "\n",
        "model.add(Bidirectional(LSTM(64)))\n",
        "model.add(Dense(vocab_size, activation = 'softmax'))\n",
        "model.compile(loss = 'categorical_crossentropy', optimizer = 'adam', metrics = ['acc'])\n",
        "history = model.fit(X_train, y_train, epochs = 10, validation_data=(X_val, y_val), verbose = 1)"
      ],
      "metadata": {
        "id": "j90O50KqYMEF"
      },
      "execution_count": null,
      "outputs": []
    }
  ]
}